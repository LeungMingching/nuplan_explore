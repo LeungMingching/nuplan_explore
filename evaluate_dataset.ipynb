{
 "cells": [
  {
   "cell_type": "code",
   "execution_count": 36,
   "id": "31afeb66",
   "metadata": {},
   "outputs": [],
   "source": [
    "import random\n",
    "import numpy as np\n",
    "import matplotlib.pyplot as plt"
   ]
  },
  {
   "cell_type": "code",
   "execution_count": 37,
   "id": "f2a08b27",
   "metadata": {},
   "outputs": [],
   "source": [
    "dataset_root = 'converted_dataset/'\n",
    "scenario_type = 'low_magnitude_speed'"
   ]
  },
  {
   "cell_type": "code",
   "execution_count": 38,
   "id": "e2f8fcb2",
   "metadata": {
    "scrolled": true
   },
   "outputs": [
    {
     "data": {
      "text/plain": [
       "(8344, 3)"
      ]
     },
     "execution_count": 38,
     "metadata": {},
     "output_type": "execute_result"
    }
   ],
   "source": [
    "# load ouput file\n",
    "with open(dataset_root + scenario_type + '/look_ahead_pt_array.npy', 'rb') as f:\n",
    "    look_ahead_pt_array = np.load(f, allow_pickle=True)\n",
    "    \n",
    "look_ahead_pt_array.shape"
   ]
  },
  {
   "cell_type": "code",
   "execution_count": 39,
   "id": "5bdc2f55",
   "metadata": {
    "scrolled": true
   },
   "outputs": [
    {
     "data": {
      "text/plain": [
       "(8344, 11, 8)"
      ]
     },
     "execution_count": 39,
     "metadata": {},
     "output_type": "execute_result"
    }
   ],
   "source": [
    "# load random input file\n",
    "with open(dataset_root + scenario_type + '/observation_array.npy', 'rb') as f:\n",
    "    observation = np.load(f, allow_pickle=True)\n",
    "observation.shape"
   ]
  },
  {
   "cell_type": "code",
   "execution_count": 40,
   "id": "cfc0cea1",
   "metadata": {},
   "outputs": [
    {
     "data": {
      "text/plain": [
       "8"
      ]
     },
     "execution_count": 40,
     "metadata": {},
     "output_type": "execute_result"
    }
   ],
   "source": [
    "len(observation[0][0])"
   ]
  },
  {
   "cell_type": "markdown",
   "id": "84e6afec",
   "metadata": {},
   "source": [
    "# visualize"
   ]
  },
  {
   "cell_type": "code",
   "execution_count": 41,
   "id": "3b7d4784",
   "metadata": {},
   "outputs": [],
   "source": [
    "# random_idx= random.choice(range(len(observation)))\n",
    "random_idx = 0\n",
    "frame = observation[random_idx]\n",
    "look_ahead_pt = look_ahead_pt_array[random_idx]"
   ]
  },
  {
   "cell_type": "code",
   "execution_count": 42,
   "id": "ee113744",
   "metadata": {
    "scrolled": true
   },
   "outputs": [
    {
     "data": {
      "text/plain": [
       "array([ 6.64649706e+05,  3.99925533e+06, -2.04509553e+00, -6.20659121e-04,\n",
       "       -1.78046777e-03, -2.00584245e-04, -1.40733183e-02,  1.00000000e+00])"
      ]
     },
     "execution_count": 42,
     "metadata": {},
     "output_type": "execute_result"
    }
   ],
   "source": [
    "ego_pose = frame[0]\n",
    "objs_pose = frame[1:]\n",
    "ego_pose"
   ]
  },
  {
   "cell_type": "code",
   "execution_count": 43,
   "id": "5f5effb1",
   "metadata": {
    "scrolled": true
   },
   "outputs": [
    {
     "data": {
      "text/plain": [
       "array([[ 6.64653783e+05,  3.99925651e+06, -2.07290815e+00,\n",
       "         0.00000000e+00,  0.00000000e+00],\n",
       "       [ 6.64649838e+05,  3.99924946e+06, -2.06396917e+00,\n",
       "        -1.03119088e+00, -2.01086351e+00],\n",
       "       [ 6.64654334e+05,  3.99925140e+06, -2.05303948e+00,\n",
       "        -1.69457363e-01, -3.33818029e-01],\n",
       "       [ 6.64646075e+05,  3.99924807e+06, -2.09939088e+00,\n",
       "         0.00000000e+00,  0.00000000e+00],\n",
       "       [ 6.64658364e+05,  3.99925858e+06, -2.03935011e+00,\n",
       "         0.00000000e+00,  0.00000000e+00],\n",
       "       [ 6.64654359e+05,  3.99926373e+06, -2.03826927e+00,\n",
       "         0.00000000e+00,  0.00000000e+00],\n",
       "       [ 6.64639409e+05,  3.99925761e+06,  1.02700987e+00,\n",
       "         7.07412341e-01,  1.15767443e+00],\n",
       "       [ 6.64658496e+05,  3.99926576e+06, -2.03723121e+00,\n",
       "         0.00000000e+00,  0.00000000e+00],\n",
       "       [ 6.64648979e+05,  3.99924070e+06, -2.05287484e+00,\n",
       "        -2.01209583e+00, -3.87127097e+00],\n",
       "       [ 6.64642615e+05,  3.99924176e+06, -2.04262694e+00,\n",
       "        -5.21504249e-01, -1.00661616e+00]])"
      ]
     },
     "execution_count": 43,
     "metadata": {},
     "output_type": "execute_result"
    }
   ],
   "source": [
    "objs_pose[:,[0,1,2,3,4]]"
   ]
  },
  {
   "cell_type": "code",
   "execution_count": 44,
   "id": "29fa56ba",
   "metadata": {},
   "outputs": [
    {
     "data": {
      "text/plain": [
       "array([6.64647698e+05, 3.99925164e+06, 3.02720850e+00])"
      ]
     },
     "execution_count": 44,
     "metadata": {},
     "output_type": "execute_result"
    }
   ],
   "source": [
    "look_ahead_pt"
   ]
  },
  {
   "cell_type": "code",
   "execution_count": 45,
   "id": "7c993238",
   "metadata": {},
   "outputs": [
    {
     "data": {
      "text/plain": [
       "-0.0017804677729624917"
      ]
     },
     "execution_count": 45,
     "metadata": {},
     "output_type": "execute_result"
    }
   ],
   "source": [
    "ego_pose[4]"
   ]
  },
  {
   "cell_type": "markdown",
   "id": "98630f0d",
   "metadata": {},
   "source": [
    "**!!!ego vx and vy are w.r.t ego coordinate**"
   ]
  },
  {
   "cell_type": "code",
   "execution_count": 46,
   "id": "ee4a73fb",
   "metadata": {},
   "outputs": [],
   "source": [
    "ego_vx = ego_pose[3]*np.cos(ego_pose[2]) - ego_pose[4]*np.sin(ego_pose[2])\n",
    "ego_vy = ego_pose[3]*np.sin(ego_pose[2]) + ego_pose[4]*np.cos(ego_pose[2])"
   ]
  },
  {
   "cell_type": "code",
   "execution_count": 47,
   "id": "3db129aa",
   "metadata": {
    "scrolled": false
   },
   "outputs": [
    {
     "name": "stderr",
     "output_type": "stream",
     "text": [
      "/home/gac/anaconda3/envs/nuplan/lib/python3.9/site-packages/matplotlib/quiver.py:646: RuntimeWarning: divide by zero encountered in scalar divide\n",
      "  length = a * (widthu_per_lenu / (self.scale * self.width))\n",
      "/home/gac/anaconda3/envs/nuplan/lib/python3.9/site-packages/matplotlib/quiver.py:646: RuntimeWarning: invalid value encountered in multiply\n",
      "  length = a * (widthu_per_lenu / (self.scale * self.width))\n"
     ]
    },
    {
     "data": {
      "image/png": "[encoded data removed]",
      "text/plain": [
       "<Figure size 640x480 with 1 Axes>"
      ]
     },
     "metadata": {},
     "output_type": "display_data"
    }
   ],
   "source": [
    "plt.quiver(0, 0, ego_vx, ego_vy, color='r')\n",
    "plt.scatter(look_ahead_pt[0]-ego_pose[0], look_ahead_pt[1]-ego_pose[1], marker='x')\n",
    "\n",
    "for obj in objs_pose:\n",
    "    if obj[-1] == 0:\n",
    "        continue\n",
    "    plt.quiver(obj[0]-ego_pose[0], obj[1]-ego_pose[1], obj[3], obj[4], color='b')\n",
    "    \n",
    "plt.show()"
   ]
  }
 ],
 "metadata": {
  "kernelspec": {
   "display_name": "Python [conda env:nuplan] *",
   "language": "python",
   "name": "conda-env-nuplan-py"
  },
  "language_info": {
   "codemirror_mode": {
    "name": "ipython",
    "version": 3
   },
   "file_extension": ".py",
   "mimetype": "text/x-python",
   "name": "python",
   "nbconvert_exporter": "python",
   "pygments_lexer": "ipython3",
   "version": "3.9.16"
  }
 },
 "nbformat": 4,
 "nbformat_minor": 5
}
