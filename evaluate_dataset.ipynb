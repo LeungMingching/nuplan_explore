{
 "cells": [
  {
   "cell_type": "code",
   "execution_count": 1,
   "id": "31afeb66",
   "metadata": {},
   "outputs": [],
   "source": [
    "import random\n",
    "import numpy as np\n",
    "import matplotlib.pyplot as plt"
   ]
  },
  {
   "cell_type": "code",
   "execution_count": 2,
   "id": "f2a08b27",
   "metadata": {},
   "outputs": [],
   "source": [
    "dataset_root = 'dataset/'\n",
    "scenario_type = 'changing_lane'"
   ]
  },
  {
   "cell_type": "code",
   "execution_count": 3,
   "id": "e2f8fcb2",
   "metadata": {
    "scrolled": true
   },
   "outputs": [
    {
     "data": {
      "text/plain": [
       "(22, 3)"
      ]
     },
     "execution_count": 3,
     "metadata": {},
     "output_type": "execute_result"
    }
   ],
   "source": [
    "# load ouput file\n",
    "with open(dataset_root + scenario_type + '/look_ahead_pt_array.npy', 'rb') as f:\n",
    "    look_ahead_pt_array = np.load(f, allow_pickle=True)\n",
    "    \n",
    "look_ahead_pt_array.shape"
   ]
  },
  {
   "cell_type": "code",
   "execution_count": 4,
   "id": "5bdc2f55",
   "metadata": {
    "scrolled": true
   },
   "outputs": [
    {
     "data": {
      "text/plain": [
       "(22, 11, 8)"
      ]
     },
     "execution_count": 4,
     "metadata": {},
     "output_type": "execute_result"
    }
   ],
   "source": [
    "# load random input file\n",
    "with open(dataset_root + scenario_type + '/observation_array.npy', 'rb') as f:\n",
    "    observation = np.load(f, allow_pickle=True)\n",
    "observation.shape"
   ]
  },
  {
   "cell_type": "code",
   "execution_count": 5,
   "id": "cfc0cea1",
   "metadata": {},
   "outputs": [
    {
     "data": {
      "text/plain": [
       "8"
      ]
     },
     "execution_count": 5,
     "metadata": {},
     "output_type": "execute_result"
    }
   ],
   "source": [
    "len(observation[0][0])"
   ]
  },
  {
   "cell_type": "markdown",
   "id": "59222291",
   "metadata": {},
   "source": [
    "# visualize"
   ]
  },
  {
   "cell_type": "code",
   "execution_count": 6,
   "id": "3b7d4784",
   "metadata": {},
   "outputs": [],
   "source": [
    "# random_idx= random.choice(range(len(observation)))\n",
    "random_idx = 0\n",
    "frame = observation[random_idx]\n",
    "look_ahead_pt = look_ahead_pt_array[random_idx]"
   ]
  },
  {
   "cell_type": "code",
   "execution_count": 7,
   "id": "ee113744",
   "metadata": {
    "scrolled": true
   },
   "outputs": [
    {
     "data": {
      "text/plain": [
       "array([ 6.64767195e+05,  3.99943679e+06,  1.09162177e+00,  8.11178251e+00,\n",
       "       -1.33688155e-01,  3.37024940e-01, -1.08500038e-01,  1.00000000e+00])"
      ]
     },
     "execution_count": 7,
     "metadata": {},
     "output_type": "execute_result"
    }
   ],
   "source": [
    "ego_pose = frame[0]\n",
    "objs_pose = frame[1:]\n",
    "ego_pose"
   ]
  },
  {
   "cell_type": "code",
   "execution_count": 8,
   "id": "51f79241",
   "metadata": {
    "scrolled": true
   },
   "outputs": [
    {
     "data": {
      "text/plain": [
       "array([[ 6.64761747e+05,  3.99943323e+06,  1.09510844e+00,\n",
       "         4.36665833e+00,  8.50059369e+00],\n",
       "       [ 6.64776172e+05,  3.99942780e+06,  2.97777443e+00,\n",
       "         0.00000000e+00,  0.00000000e+00],\n",
       "       [ 6.64758350e+05,  3.99944652e+06, -2.02188406e+00,\n",
       "         0.00000000e+00,  0.00000000e+00],\n",
       "       [ 6.64773195e+05,  3.99942472e+06,  2.96728993e+00,\n",
       "         0.00000000e+00,  0.00000000e+00],\n",
       "       [ 6.64771455e+05,  3.99942156e+06,  2.99077960e+00,\n",
       "         0.00000000e+00,  0.00000000e+00],\n",
       "       [ 6.64759945e+05,  3.99942263e+06,  1.09971153e+00,\n",
       "         4.03204946e+00,  7.92566173e+00],\n",
       "       [ 6.64775063e+05,  3.99945134e+06,  1.10133993e+00,\n",
       "         4.03520058e+00,  7.94133281e+00],\n",
       "       [ 6.64772514e+05,  3.99941795e+06,  2.99442928e+00,\n",
       "         0.00000000e+00,  0.00000000e+00],\n",
       "       [ 6.64781733e+05,  3.99942365e+06,  2.97406492e+00,\n",
       "         0.00000000e+00,  0.00000000e+00],\n",
       "       [ 6.64779695e+05,  3.99942075e+06,  2.97068932e+00,\n",
       "         0.00000000e+00,  0.00000000e+00]])"
      ]
     },
     "execution_count": 8,
     "metadata": {},
     "output_type": "execute_result"
    }
   ],
   "source": [
    "objs_pose[:,[0,1,2,3,4]]"
   ]
  },
  {
   "cell_type": "code",
   "execution_count": 9,
   "id": "766efbc1",
   "metadata": {},
   "outputs": [
    {
     "data": {
      "text/plain": [
       "array([6.64788893e+05, 3.99947749e+06, 1.02525629e+01])"
      ]
     },
     "execution_count": 9,
     "metadata": {},
     "output_type": "execute_result"
    }
   ],
   "source": [
    "look_ahead_pt"
   ]
  },
  {
   "cell_type": "code",
   "execution_count": 10,
   "id": "98daebfd",
   "metadata": {},
   "outputs": [
    {
     "data": {
      "text/plain": [
       "-0.1336881549248966"
      ]
     },
     "execution_count": 10,
     "metadata": {},
     "output_type": "execute_result"
    }
   ],
   "source": [
    "ego_pose[4]"
   ]
  },
  {
   "cell_type": "markdown",
   "id": "bb574303",
   "metadata": {},
   "source": [
    "**!!!ego vx and vy are w.r.t ego coordinate**"
   ]
  },
  {
   "cell_type": "code",
   "execution_count": 11,
   "id": "40231763",
   "metadata": {},
   "outputs": [],
   "source": [
    "ego_vx = ego_pose[3]*np.cos(ego_pose[2]) - ego_pose[4]*np.sin(ego_pose[2])\n",
    "ego_vy = ego_pose[3]*np.sin(ego_pose[2]) + ego_pose[4]*np.cos(ego_pose[2])"
   ]
  },
  {
   "cell_type": "code",
   "execution_count": 12,
   "id": "3db129aa",
   "metadata": {
    "scrolled": false
   },
   "outputs": [
    {
     "name": "stderr",
     "output_type": "stream",
     "text": [
      "/home/gac/anaconda3/envs/nuplan/lib/python3.9/site-packages/matplotlib/quiver.py:646: RuntimeWarning: divide by zero encountered in scalar divide\n",
      "  length = a * (widthu_per_lenu / (self.scale * self.width))\n",
      "/home/gac/anaconda3/envs/nuplan/lib/python3.9/site-packages/matplotlib/quiver.py:646: RuntimeWarning: invalid value encountered in multiply\n",
      "  length = a * (widthu_per_lenu / (self.scale * self.width))\n"
     ]
    },
    {
     "data": {
      "image/png": "[encoded data removed]",
      "text/plain": [
       "<Figure size 640x480 with 1 Axes>"
      ]
     },
     "metadata": {},
     "output_type": "display_data"
    }
   ],
   "source": [
    "plt.quiver(0, 0, ego_vx, ego_vy, color='r')\n",
    "plt.scatter(look_ahead_pt[0]-ego_pose[0], look_ahead_pt[1]-ego_pose[1], marker='x')\n",
    "\n",
    "for obj in objs_pose:\n",
    "    if obj[-1] == 0:\n",
    "        continue\n",
    "    plt.quiver(obj[0]-ego_pose[0], obj[1]-ego_pose[1], obj[3], obj[4], color='b')\n",
    "    \n",
    "plt.show()"
   ]
  },
  {
   "cell_type": "code",
   "execution_count": null,
   "id": "4dc5a208",
   "metadata": {},
   "outputs": [],
   "source": []
  }
 ],
 "metadata": {
  "kernelspec": {
   "display_name": "Python [conda env:nuplan] *",
   "language": "python",
   "name": "conda-env-nuplan-py"
  },
  "language_info": {
   "codemirror_mode": {
    "name": "ipython",
    "version": 3
   },
   "file_extension": ".py",
   "mimetype": "text/x-python",
   "name": "python",
   "nbconvert_exporter": "python",
   "pygments_lexer": "ipython3",
   "version": "3.9.16"
  }
 },
 "nbformat": 4,
 "nbformat_minor": 5
}
