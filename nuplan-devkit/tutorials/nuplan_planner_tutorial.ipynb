{
 "cells": [
  {
   "cell_type": "code",
   "execution_count": 12,
   "id": "796d853b",
   "metadata": {},
   "outputs": [],
   "source": [
    "import os\n",
    "os.environ['NUPLAN_DATA_ROOT'] = '~/nuplan/dataset'\n",
    "os.environ['NUPLAN_MAPS_ROOT'] = '~/nuplan/dataset/maps'\n",
    "os.environ['NUPLAN_DB_FILES'] = '~/nuplan/dataset/nuplan-v1.1/splits/mini'\n",
    "os.environ['NUPLAN_MAP_VERSION'] = 'nuplan-maps-v1.0'"
   ]
  },
  {
   "cell_type": "code",
   "execution_count": 13,
   "id": "72914624",
   "metadata": {},
   "outputs": [
    {
     "data": {
      "text/plain": [
       "environ{'SHELL': '/bin/bash',\n",
       "        'ROS_VERSION': '2',\n",
       "        'SESSION_MANAGER': 'local/gac-HP-Z4-G4-Workstation:@/tmp/.ICE-unix/1981,unix/gac-HP-Z4-G4-Workstation:/tmp/.ICE-unix/1981',\n",
       "        'QT_ACCESSIBILITY': '1',\n",
       "        'COLORTERM': 'truecolor',\n",
       "        'XDG_CONFIG_DIRS': '/etc/xdg/xdg-ubuntu:/etc/xdg',\n",
       "        'XDG_MENU_PREFIX': 'gnome-',\n",
       "        'no_proxy': 'localhost,127.0.0.0/8,::1',\n",
       "        'GNOME_DESKTOP_SESSION_ID': 'this-is-deprecated',\n",
       "        'CONDA_EXE': '/home/gac/anaconda3/bin/conda',\n",
       "        '_CE_M': '',\n",
       "        'ROS_PYTHON_VERSION': '3',\n",
       "        'MANDATORY_PATH': '/usr/share/gconf/ubuntu.mandatory.path',\n",
       "        'LC_ADDRESS': 'en_US.UTF-8',\n",
       "        'GNOME_SHELL_SESSION_MODE': 'ubuntu',\n",
       "        'LC_NAME': 'en_US.UTF-8',\n",
       "        'SSH_AUTH_SOCK': '/run/user/1000/keyring/ssh',\n",
       "        'XMODIFIERS': '@im=ibus',\n",
       "        'DESKTOP_SESSION': 'ubuntu',\n",
       "        'LC_MONETARY': 'en_US.UTF-8',\n",
       "        'SSH_AGENT_PID': '1945',\n",
       "        'GTK_MODULES': 'gail:atk-bridge',\n",
       "        'PWD': '/home/gac/nuplan_explore/nuplan-devkit',\n",
       "        'XDG_SESSION_DESKTOP': 'ubuntu',\n",
       "        'LOGNAME': 'gac',\n",
       "        'XDG_SESSION_TYPE': 'x11',\n",
       "        'CONDA_PREFIX': '/home/gac/anaconda3/envs/nuplan',\n",
       "        'GPG_AGENT_INFO': '/run/user/1000/gnupg/S.gpg-agent:0:1',\n",
       "        'ROS_DOMAIN_ID': '98',\n",
       "        'XAUTHORITY': '/run/user/1000/gdm/Xauthority',\n",
       "        'ftp_proxy': 'http://127.0.0.1:7890/',\n",
       "        'WINDOWPATH': '2',\n",
       "        'LD_PRELOAD': ':/usr/lib/x86_64-linux-gnu/libGLEW.so',\n",
       "        'HOME': '/home/gac',\n",
       "        'USERNAME': 'gac',\n",
       "        'IM_CONFIG_PHASE': '1',\n",
       "        'LC_PAPER': 'en_US.UTF-8',\n",
       "        'LANG': 'en_US.UTF-8',\n",
       "        'LS_COLORS': 'rs=0:di=01;34:ln=01;36:mh=00:pi=40;33:so=01;35:do=01;35:bd=40;33;01:cd=40;33;01:or=40;31;01:mi=00:su=37;41:sg=30;43:ca=30;41:tw=30;42:ow=34;42:st=37;44:ex=01;32:*.tar=01;31:*.tgz=01;31:*.arc=01;31:*.arj=01;31:*.taz=01;31:*.lha=01;31:*.lz4=01;31:*.lzh=01;31:*.lzma=01;31:*.tlz=01;31:*.txz=01;31:*.tzo=01;31:*.t7z=01;31:*.zip=01;31:*.z=01;31:*.dz=01;31:*.gz=01;31:*.lrz=01;31:*.lz=01;31:*.lzo=01;31:*.xz=01;31:*.zst=01;31:*.tzst=01;31:*.bz2=01;31:*.bz=01;31:*.tbz=01;31:*.tbz2=01;31:*.tz=01;31:*.deb=01;31:*.rpm=01;31:*.jar=01;31:*.war=01;31:*.ear=01;31:*.sar=01;31:*.rar=01;31:*.alz=01;31:*.ace=01;31:*.zoo=01;31:*.cpio=01;31:*.7z=01;31:*.rz=01;31:*.cab=01;31:*.wim=01;31:*.swm=01;31:*.dwm=01;31:*.esd=01;31:*.jpg=01;35:*.jpeg=01;35:*.mjpg=01;35:*.mjpeg=01;35:*.gif=01;35:*.bmp=01;35:*.pbm=01;35:*.pgm=01;35:*.ppm=01;35:*.tga=01;35:*.xbm=01;35:*.xpm=01;35:*.tif=01;35:*.tiff=01;35:*.png=01;35:*.svg=01;35:*.svgz=01;35:*.mng=01;35:*.pcx=01;35:*.mov=01;35:*.mpg=01;35:*.mpeg=01;35:*.m2v=01;35:*.mkv=01;35:*.webm=01;35:*.ogm=01;35:*.mp4=01;35:*.m4v=01;35:*.mp4v=01;35:*.vob=01;35:*.qt=01;35:*.nuv=01;35:*.wmv=01;35:*.asf=01;35:*.rm=01;35:*.rmvb=01;35:*.flc=01;35:*.avi=01;35:*.fli=01;35:*.flv=01;35:*.gl=01;35:*.dl=01;35:*.xcf=01;35:*.xwd=01;35:*.yuv=01;35:*.cgm=01;35:*.emf=01;35:*.ogv=01;35:*.ogx=01;35:*.aac=00;36:*.au=00;36:*.flac=00;36:*.m4a=00;36:*.mid=00;36:*.midi=00;36:*.mka=00;36:*.mp3=00;36:*.mpc=00;36:*.ogg=00;36:*.ra=00;36:*.wav=00;36:*.oga=00;36:*.opus=00;36:*.spx=00;36:*.xspf=00;36:',\n",
       "        'XDG_CURRENT_DESKTOP': 'ubuntu:GNOME',\n",
       "        'VTE_VERSION': '6003',\n",
       "        'CONDA_PROMPT_MODIFIER': '(nuplan) ',\n",
       "        'AMENT_PREFIX_PATH': '/opt/ros/foxy',\n",
       "        'GNOME_TERMINAL_SCREEN': '/org/gnome/Terminal/screen/203d471c_190c_4f46_8c87_79a93afae1cd',\n",
       "        'https_proxy': 'http://127.0.0.1:7890/',\n",
       "        'INVOCATION_ID': '9f6ddd1c0a2b40a6b023afe76d56e7ac',\n",
       "        'MANAGERPID': '1767',\n",
       "        'LESSCLOSE': '/usr/bin/lesspipe %s %s',\n",
       "        'XDG_SESSION_CLASS': 'user',\n",
       "        'PYTHONPATH': '/opt/ros/foxy/lib/python3.8/site-packages:/home/gac/CARLA/PythonAPI/carla/dist/carla-0.9.14-py3.7-linux-x86_64.egg',\n",
       "        'TERM': 'xterm-color',\n",
       "        'LC_IDENTIFICATION': 'en_US.UTF-8',\n",
       "        '_CE_CONDA': '',\n",
       "        'DEFAULTS_PATH': '/usr/share/gconf/ubuntu.default.path',\n",
       "        'LESSOPEN': '| /usr/bin/lesspipe %s',\n",
       "        'USER': 'gac',\n",
       "        'NO_PROXY': 'localhost,127.0.0.0/8,::1',\n",
       "        'FTP_PROXY': 'http://127.0.0.1:7890/',\n",
       "        'GNOME_TERMINAL_SERVICE': ':1.78',\n",
       "        'CONDA_SHLVL': '2',\n",
       "        'DISPLAY': ':1',\n",
       "        'SHLVL': '1',\n",
       "        'LC_TELEPHONE': 'en_US.UTF-8',\n",
       "        'HTTPS_PROXY': 'http://127.0.0.1:7890/',\n",
       "        'HTTP_PROXY': 'http://127.0.0.1:7890/',\n",
       "        'QT_IM_MODULE': 'ibus',\n",
       "        'LC_MEASUREMENT': 'en_US.UTF-8',\n",
       "        'PAPERSIZE': 'letter',\n",
       "        'http_proxy': 'http://127.0.0.1:7890/',\n",
       "        'CONDA_PYTHON_EXE': '/home/gac/anaconda3/bin/python',\n",
       "        'LD_LIBRARY_PATH': '/opt/ros/foxy/opt/yaml_cpp_vendor/lib:/opt/ros/foxy/opt/rviz_ogre_vendor/lib:/opt/ros/foxy/lib/x86_64-linux-gnu:/opt/ros/foxy/lib:/home/gac/.mujoco/mujoco210/bin:/usr/lib/nvidia',\n",
       "        'XDG_RUNTIME_DIR': '/run/user/1000',\n",
       "        'ROS_LOCALHOST_ONLY': '0',\n",
       "        'CONDA_DEFAULT_ENV': 'nuplan',\n",
       "        'ALL_PROXY': 'socks://127.0.0.1:7890/',\n",
       "        'LC_TIME': 'en_US.UTF-8',\n",
       "        'LC_ALL': 'en_US.UTF-8',\n",
       "        'JOURNAL_STREAM': '8:43581',\n",
       "        'XDG_DATA_DIRS': '/usr/share/ubuntu:/usr/local/share/:/usr/share/:/var/lib/snapd/desktop',\n",
       "        'all_proxy': 'socks://127.0.0.1:7890/',\n",
       "        'PATH': '/opt/ros/foxy/bin:/home/gac/anaconda3/envs/nuplan/bin:/home/gac/anaconda3/condabin:/usr/local/sbin:/usr/local/bin:/usr/sbin:/usr/bin:/sbin:/bin:/usr/games:/usr/local/games:/snap/bin:/home/gac/.dotnet/tools',\n",
       "        'GDMSESSION': 'ubuntu',\n",
       "        'DBUS_SESSION_BUS_ADDRESS': 'unix:path=/run/user/1000/bus',\n",
       "        'CONDA_PREFIX_1': '/home/gac/anaconda3',\n",
       "        'ROS_DISTRO': 'foxy',\n",
       "        'LC_NUMERIC': 'en_US.UTF-8',\n",
       "        'OLDPWD': '/home/gac',\n",
       "        '_': '/home/gac/anaconda3/envs/nuplan/bin/jupyter',\n",
       "        'PYDEVD_USE_FRAME_EVAL': 'NO',\n",
       "        'JPY_PARENT_PID': '69004',\n",
       "        'CLICOLOR': '1',\n",
       "        'FORCE_COLOR': '1',\n",
       "        'CLICOLOR_FORCE': '1',\n",
       "        'PAGER': 'cat',\n",
       "        'GIT_PAGER': 'cat',\n",
       "        'MPLBACKEND': 'module://matplotlib_inline.backend_inline',\n",
       "        'NUPLAN_DATA_ROOT': '~/nuplan/dataset',\n",
       "        'NUPLAN_MAPS_ROOT': '~/nuplan/dataset/maps',\n",
       "        'NUPLAN_DB_FILES': '~/nuplan/dataset/nuplan-v1.1/splits/mini',\n",
       "        'NUPLAN_MAP_VERSION': 'nuplan-maps-v1.0',\n",
       "        'GDAL_CURL_CA_BUNDLE': '/home/gac/anaconda3/envs/nuplan/lib/python3.9/site-packages/certifi/cacert.pem',\n",
       "        'PROJ_CURL_CA_BUNDLE': '/home/gac/anaconda3/envs/nuplan/lib/python3.9/site-packages/certifi/cacert.pem',\n",
       "        'QT_QPA_PLATFORM_PLUGIN_PATH': '/home/gac/anaconda3/envs/nuplan/lib/python3.9/site-packages/cv2/qt/plugins',\n",
       "        'QT_QPA_FONTDIR': '/home/gac/anaconda3/envs/nuplan/lib/python3.9/site-packages/cv2/qt/fonts',\n",
       "        'RAY_CLIENT_MODE': '0',\n",
       "        'NUPLAN_EXP_ROOT': '/home/gac/nuplan/exp',\n",
       "        'PL_GLOBAL_SEED': '0',\n",
       "        'PL_SEED_WORKERS': '1'}"
      ]
     },
     "execution_count": 13,
     "metadata": {},
     "output_type": "execute_result"
    }
   ],
   "source": [
    "os.environ"
   ]
  },
  {
   "cell_type": "code",
   "execution_count": 18,
   "id": "35785a88",
   "metadata": {},
   "outputs": [
    {
     "data": {
      "text/plain": [
       "True"
      ]
     },
     "execution_count": 18,
     "metadata": {},
     "output_type": "execute_result"
    }
   ],
   "source": [
    "os.path.isdir('/home/gac/nuplan/dataset/maps')"
   ]
  },
  {
   "cell_type": "markdown",
   "id": "7e01e5d2",
   "metadata": {},
   "source": [
    "### Contents\n",
    "\n",
    "1. [Introduction](#introduction)\n",
    "2. [Creating the planner](#planning)\n",
    "3. [Simulating the planner](#simulation)\n",
    "4. [Visualizing metrics and scenarios](#dashboard)"
   ]
  },
  {
   "cell_type": "code",
   "execution_count": 3,
   "id": "057e7cea",
   "metadata": {},
   "outputs": [],
   "source": [
    "from tutorials.utils.tutorial_utils import setup_notebook\n",
    "\n",
    "setup_notebook()"
   ]
  },
  {
   "cell_type": "markdown",
   "id": "34460db1",
   "metadata": {},
   "source": [
    "# Creating a new planner in nuPlan <a name=\"introduction\"></a>\n"
   ]
  },
  {
   "cell_type": "markdown",
   "id": "01b6b6ee",
   "metadata": {},
   "source": [
    "Welcome to the nuplan planning tutorial. One of the core interactions with nuplan will be to build and train your own planners and run them through nuplan's simulation pipeline for evaluation. While we discuss how to train your machine learned planners in other tutorials, in this tutorial we will show you the basic elements you will need for constructing a planner that plugs into the nuplan interface. We will also show you the basics of running the planner in simulation and visualizing the behavior and metrics for evaluation."
   ]
  },
  {
   "cell_type": "markdown",
   "id": "f0189156",
   "metadata": {},
   "source": [
    "## Setup\n",
    "\n",
    "To be able to access all resources within this notebook, make sure Jupyter is launched at the root of this repo. The path of the notebook should be `/notebook/<repo_root>`."
   ]
  },
  {
   "cell_type": "code",
   "execution_count": 4,
   "id": "13c00121",
   "metadata": {},
   "outputs": [
    {
     "name": "stderr",
     "output_type": "stream",
     "text": [
      "/tmp/ipykernel_71204/911397167.py:2: DeprecationWarning: Importing display from IPython.core.display is deprecated since IPython 7.14, please import from IPython display\n",
      "  from IPython.core.display import display, HTML\n"
     ]
    },
    {
     "data": {
      "text/html": [
       "<style>.output_result { max-width:100% !important; }</style>"
      ],
      "text/plain": [
       "<IPython.core.display.HTML object>"
      ]
     },
     "metadata": {},
     "output_type": "display_data"
    },
    {
     "data": {
      "text/html": [
       "<style>.container { width:100% !important; }</style>"
      ],
      "text/plain": [
       "<IPython.core.display.HTML object>"
      ]
     },
     "metadata": {},
     "output_type": "display_data"
    }
   ],
   "source": [
    "# (Optional) Increase notebook width for all embedded cells to display properly\n",
    "from IPython.core.display import display, HTML\n",
    "\n",
    "display(HTML(\"<style>.output_result { max-width:100% !important; }</style>\"))\n",
    "display(HTML(\"<style>.container { width:100% !important; }</style>\"))"
   ]
  },
  {
   "cell_type": "code",
   "execution_count": 5,
   "id": "779b0132",
   "metadata": {},
   "outputs": [],
   "source": [
    "# Useful imports\n",
    "import os\n",
    "from pathlib import Path\n",
    "import tempfile\n",
    "\n",
    "import hydra"
   ]
  },
  {
   "cell_type": "markdown",
   "id": "edf9156f",
   "metadata": {},
   "source": [
    "# Creating the planner <a name=\"planning\"></a>"
   ]
  },
  {
   "cell_type": "markdown",
   "id": "b21f4f69",
   "metadata": {},
   "source": [
    "The planner is the main component responsible for determining the ego vehicle's behavior. At it's core, a planner will consume state information in the form of observations regarding its own pose, poses of other agents, and various static and dynamic map information, along with a goal, and produce a trajectory dictating the future path that the ego vehicle will attempt to follow according to a given control strategy.\n",
    "\n",
    "<img src=\"media/planner_inputs_outputs_diagram.drawio.svg\"/>\n",
    "\n",
    "In nuplan, all planners will inherit from the *AbstractPlanner* class and, along with whatever additional functionality you provide it, will have to implement a few core methods. Let's take a look at the *AbstractPlanner* class."
   ]
  },
  {
   "cell_type": "markdown",
   "id": "42ff5db7",
   "metadata": {},
   "source": [
    "Let's take a look at these core methods one by one.\n",
    "\n",
    "**initialize**: This method initializes the planner with important static information including the high level goal, represented as a (x, y, heading) pose, which in practice might be provided a higher level routing system, as well as the interface for interacting with relevant map information.\n",
    "\n",
    "**name**: The name of the planner. This one's easy!\n",
    "\n",
    "**observation_type**: This dictates what type of observations the planner will consume to inform it's decision making. Options here include *Sensors* (raw sensor information such as images or pointclouds) and *DetectionsTracks* (outputs of an earlier perception system designed to consume sensor information and produce meaningful detections).\n",
    "\n",
    "**compute_trajectory**: This is the core behavior of the planner, and the part you will most likely spend the most time on. This method will consume a history buffer containing discretized past ego trajectory information as well as observations of the type declared in *observation_type* up until the current time step. Correctly accounting for historical as well as current information will allow the planner to produce more stable and strategic behaviors and avoid overcorrecting in the presence of noisy observations. The *compute_trajectory* method will be responsible for producing the trajectory dictating the path the ego vehicle will attempt to follow in the future. The trajectory represents the series of ego states (identifying pose along with dynamic information such as velocities and accelerations) the vehicle will try to attain along a specified time horizon, most easily represented as a list of states along with a method to interpolate between them.\n",
    "\n",
    "\n",
    "We will now use the *SimplePlanner* class as an example of how to implement the *AbstractPlanner* interface with a real planner."
   ]
  },
  {
   "cell_type": "code",
   "execution_count": 6,
   "id": "d8f1b203",
   "metadata": {},
   "outputs": [],
   "source": [
    "from typing import List, Type\n",
    "\n",
    "import numpy as np\n",
    "import numpy.typing as npt\n",
    "\n",
    "from nuplan.common.actor_state.ego_state import DynamicCarState, EgoState\n",
    "from nuplan.common.actor_state.state_representation import StateSE2, StateVector2D, TimePoint\n",
    "from nuplan.common.actor_state.vehicle_parameters import get_pacifica_parameters, VehicleParameters\n",
    "from nuplan.planning.simulation.observation.observation_type import DetectionsTracks, Observation\n",
    "from nuplan.planning.simulation.planner.abstract_planner import AbstractPlanner, PlannerInitialization, PlannerInput\n",
    "from nuplan.planning.simulation.trajectory.interpolated_trajectory import  InterpolatedTrajectory\n",
    "from nuplan.planning.simulation.trajectory.abstract_trajectory import AbstractTrajectory\n",
    "from nuplan.planning.simulation.controller.motion_model.kinematic_bicycle import KinematicBicycleModel\n",
    "\n",
    "\n",
    "class SimplePlanner(AbstractPlanner):\n",
    "    \"\"\"\n",
    "    Planner going straight\n",
    "    \"\"\"\n",
    "\n",
    "    def __init__(self,\n",
    "                 horizon_seconds: float,\n",
    "                 sampling_time: float,\n",
    "                 acceleration: npt.NDArray[np.float32],\n",
    "                 max_velocity: float = 5.0,\n",
    "                 steering_angle: float = 0.0):\n",
    "        self.horizon_seconds = TimePoint(int(horizon_seconds * 1e6))\n",
    "        self.sampling_time = TimePoint(int(sampling_time * 1e6))\n",
    "        self.acceleration = StateVector2D(acceleration[0], acceleration[1])\n",
    "        self.max_velocity = max_velocity\n",
    "        self.steering_angle = steering_angle\n",
    "        self.vehicle = get_pacifica_parameters()\n",
    "        self.motion_model = KinematicBicycleModel(self.vehicle)\n",
    "\n",
    "    def initialize(self, initialization: List[PlannerInitialization]) -> None:\n",
    "        \"\"\" Inherited, see superclass. \"\"\"\n",
    "        pass\n",
    "\n",
    "    def name(self) -> str:\n",
    "        \"\"\" Inherited, see superclass. \"\"\"\n",
    "        return self.__class__.__name__\n",
    "\n",
    "    def observation_type(self) -> Type[Observation]:\n",
    "        \"\"\" Inherited, see superclass. \"\"\"\n",
    "        return DetectionsTracks  # type: ignore\n",
    "\n",
    "    def compute_planner_trajectory(self, current_input: PlannerInput) -> List[AbstractTrajectory]:\n",
    "        \"\"\"\n",
    "        Implement a trajectory that goes straight.\n",
    "        Inherited, see superclass.\n",
    "        \"\"\"\n",
    "        # Extract iteration and history\n",
    "        iteration = current_input.iteration\n",
    "        history = current_input.history\n",
    "\n",
    "        ego_state = history.ego_states[-1]\n",
    "        state = EgoState(\n",
    "            car_footprint=ego_state.car_footprint,\n",
    "            dynamic_car_state=DynamicCarState.build_from_rear_axle(\n",
    "                ego_state.car_footprint.rear_axle_to_center_dist,\n",
    "                ego_state.dynamic_car_state.rear_axle_velocity_2d,\n",
    "                self.acceleration,\n",
    "            ),\n",
    "            tire_steering_angle=self.steering_angle,\n",
    "            is_in_auto_mode=True,\n",
    "            time_point=ego_state.time_point,\n",
    "        )\n",
    "        trajectory: List[EgoState] = [state]\n",
    "        for _ in np.arange(\n",
    "            iteration.time_us + self.sampling_time.time_us,\n",
    "            iteration.time_us + self.horizon_seconds.time_us,\n",
    "            self.sampling_time.time_us,\n",
    "        ):\n",
    "            if state.dynamic_car_state.speed > self.max_velocity:\n",
    "                accel = self.max_velocity - state.dynamic_car_state.speed\n",
    "                state = EgoState.build_from_rear_axle(\n",
    "                    rear_axle_pose=state.rear_axle,\n",
    "                    rear_axle_velocity_2d=state.dynamic_car_state.rear_axle_velocity_2d,\n",
    "                    rear_axle_acceleration_2d=StateVector2D(accel, 0),\n",
    "                    tire_steering_angle=state.tire_steering_angle,\n",
    "                    time_point=state.time_point,\n",
    "                    vehicle_parameters=state.car_footprint.vehicle_parameters,\n",
    "                    is_in_auto_mode=True,\n",
    "                    angular_vel=state.dynamic_car_state.angular_velocity,\n",
    "                    angular_accel=state.dynamic_car_state.angular_acceleration,\n",
    "                )\n",
    "\n",
    "            state = self.motion_model.propagate_state(state, state.dynamic_car_state, self.sampling_time)\n",
    "            trajectory.append(state)\n",
    "\n",
    "        return InterpolatedTrajectory(trajectory)"
   ]
  },
  {
   "cell_type": "markdown",
   "id": "1945b81c",
   "metadata": {},
   "source": [
    "The *SimplePlanner* is very simple indeed, electing to just drive straight according to a specified steering angle. It doesn't even take into account the observations it receives!\n",
    "\n",
    "The *initialize*, *name*, and *observation_type* methods are straightforward implementations of the *AbstractPlanner* interface. The observation type here is declared as *DetectionsTracks* for use with processed detections coming from the perception system, though we note that the observations are completely ignored in the *compute_trajectory* method (we would still want to change this to *Sensors* for use with raw sensor data such as lidar pointclouds). Furthermore, we note the additional *\\_\\_init\\_\\_* method that sets intrinsic parameters of the planner, such as what steering angle it will follow and by how much it will accelerate.\n",
    "\n",
    "The *compute_trajectory* method applies the motion model of the car to update the current velocity profile with the straight line acceleration specified at initialization, rolling this out according to the horizon also specified at initialization. A more advanced planner would take the observation history and map into account and try to reach the goal specified at initialization."
   ]
  },
  {
   "cell_type": "markdown",
   "id": "128b0d15",
   "metadata": {},
   "source": [
    "# Simulating the planner <a name=\"simulation\"></a>"
   ]
  },
  {
   "cell_type": "markdown",
   "id": "10f14dbe",
   "metadata": {},
   "source": [
    "## Open-loop simulation\n",
    "Open-loop simulation aims to evaluate the policy's capabilities to imitate the expert driver's behavior.<br />\n",
    "This is essentially done through log replay as the policy's predictions do not affect the state of the simulation.\n",
    "\n",
    "As the policy is not in full control of the vehicle, this type of simulation can only provide a high-level performance overview.\n",
    "\n",
    "## Closed-loop simulation\n",
    "Conversely, in closed-loop simulation the policy's actions alter the state of the simulation which tries to closely approximate the real-world system.\n",
    "\n",
    "The simulation's feedback loop enables a more in-depth evaluation of the policy as compounding errors can cause future observations to significantly diverge from the ground truth.<br />\n",
    "This is important in measuring distribution shifts introduced due to lack of variance in training examples through pure imitation learning.\n",
    "\n",
    "Closed-loop simulation is further divided into two categories:\n",
    "* ego closed-loop simulation with agents replayed from log (open-loop, non reactive)\n",
    "* ego closed-loop simulation with agents controlled by a rule-based or learned policy (closed-loop, reactive)"
   ]
  },
  {
   "cell_type": "markdown",
   "id": "f5770200",
   "metadata": {},
   "source": [
    "## Simulation parameters"
   ]
  },
  {
   "cell_type": "markdown",
   "id": "22682633",
   "metadata": {},
   "source": [
    "### Ego Controller\n",
    "\n",
    "Change the controller the ego vehicle uses to track the trajectory supplied by the planner (in the case of closed-loop) or whether log replay is used (open-loop) with `ego_controller=X` where `X` is a config yaml defined in the table below. \n",
    "\n",
    "| Ego controller | Description | Config |\n",
    "| --- | --- | --- |\n",
    "| Log play back controller | Open-loop simulation via log replay | `log_play_back_controller` |\n",
    "| Perfect tracking controller | Ego perfectly tracks given trajectory (closed-loop) | `perfect_tracking_controller` |"
   ]
  },
  {
   "cell_type": "markdown",
   "id": "55a51f0c",
   "metadata": {},
   "source": [
    "### Observation\n",
    "\n",
    "Change the type of observation supplied to the planner with `observation=X` where `X` is a config yaml defined in the table below. \n",
    "\n",
    "| Observation | Description | Config |\n",
    "| --- | --- | --- |\n",
    "| Box observation | Bounding boxes | `box_observation` |\n",
    "| IDM agents observation | Smart agent detections | `idm_agents_observation` | \n",
    "|Lidar pc observation | Lidar point clouds from the scenario | `lidar_pc_observation` |"
   ]
  },
  {
   "cell_type": "markdown",
   "id": "db337ceb",
   "metadata": {},
   "source": [
    "## Prepare the simulation config"
   ]
  },
  {
   "cell_type": "code",
   "execution_count": 7,
   "id": "11b08c6d",
   "metadata": {},
   "outputs": [],
   "source": [
    "from tutorials.utils.tutorial_utils import construct_simulation_hydra_paths\n",
    "\n",
    "# Location of paths with all simulation configs\n",
    "BASE_CONFIG_PATH = os.path.join(os.getenv('NUPLAN_TUTORIAL_PATH', ''), '../nuplan/planning/script')\n",
    "simulation_hydra_paths = construct_simulation_hydra_paths(BASE_CONFIG_PATH)\n",
    "\n",
    "# Create a temporary directory to store the simulation artifacts\n",
    "SAVE_DIR = tempfile.mkdtemp()\n",
    "\n",
    "# Select simulation parameters\n",
    "EGO_CONTROLLER = 'perfect_tracking_controller'  # [log_play_back_controller, perfect_tracking_controller]\n",
    "OBSERVATION = 'box_observation'  # [box_observation, idm_agents_observation, lidar_pc_observation]\n",
    "DATASET_PARAMS = [\n",
    "    'scenario_builder=nuplan_mini',  # use nuplan mini database (2.5h of 8 autolabeled logs in Las Vegas)\n",
    "    'scenario_filter=one_continuous_log',  # simulate only one log\n",
    "    \"scenario_filter.log_names=['2021.07.16.20.45.29_veh-35_01095_01486']\",\n",
    "    'scenario_filter.limit_total_scenarios=2',  # use 2 total scenarios\n",
    "]\n",
    "\n",
    "# Initialize configuration management system\n",
    "hydra.core.global_hydra.GlobalHydra.instance().clear()  # reinitialize hydra if already initialized\n",
    "hydra.initialize(config_path=simulation_hydra_paths.config_path)\n",
    "\n",
    "# Compose the configuration\n",
    "cfg = hydra.compose(config_name=simulation_hydra_paths.config_name, overrides=[\n",
    "    f'group={SAVE_DIR}',\n",
    "    f'experiment_name=planner_tutorial',\n",
    "    f'job_name=planner_tutorial',\n",
    "    'experiment=${experiment_name}/${job_name}',\n",
    "    'worker=sequential',\n",
    "    f'ego_controller={EGO_CONTROLLER}',\n",
    "    f'observation={OBSERVATION}',\n",
    "    f'hydra.searchpath=[{simulation_hydra_paths.common_dir}, {simulation_hydra_paths.experiment_dir}]',\n",
    "    'output_dir=${group}/${experiment}',\n",
    "    *DATASET_PARAMS,\n",
    "])"
   ]
  },
  {
   "cell_type": "markdown",
   "id": "88231b74",
   "metadata": {},
   "source": [
    "## Launch simulation (within the notebook)"
   ]
  },
  {
   "cell_type": "code",
   "execution_count": 8,
   "id": "161cc166",
   "metadata": {},
   "outputs": [
    {
     "name": "stderr",
     "output_type": "stream",
     "text": [
      "INFO:nuplan.planning.script.utils:Setting default NUPLAN_EXP_ROOT: /home/gac/nuplan/exp\n",
      "Global seed set to 0\n",
      "INFO:nuplan.planning.script.builders.main_callback_builder:Building MultiMainCallback...\n",
      "INFO:nuplan.planning.script.builders.main_callback_builder:Building MultiMainCallback: 4...DONE!\n"
     ]
    },
    {
     "name": "stdout",
     "output_type": "stream",
     "text": [
      "2023-11-10 16:33:45,093 INFO {/home/gac/nuplan_explore/nuplan-devkit/nuplan/planning/script/builders/worker_pool_builder.py:19}  Building WorkerPool...\n",
      "2023-11-10 16:33:45,095 INFO {/home/gac/nuplan_explore/nuplan-devkit/nuplan/planning/utils/multithreading/worker_pool.py:101}  Worker: Sequential\n",
      "2023-11-10 16:33:45,095 INFO {/home/gac/nuplan_explore/nuplan-devkit/nuplan/planning/utils/multithreading/worker_pool.py:102}  Number of nodes: 1\n",
      "Number of CPUs per node: 1\n",
      "Number of GPUs per node: 0\n",
      "Number of threads across all nodes: 1\n",
      "2023-11-10 16:33:45,095 INFO {/home/gac/nuplan_explore/nuplan-devkit/nuplan/planning/script/builders/worker_pool_builder.py:27}  Building WorkerPool...DONE!\n",
      "2023-11-10 16:33:45,095 INFO {/home/gac/nuplan_explore/nuplan-devkit/nuplan/planning/script/builders/folder_builder.py:32}  Building experiment folders...\n",
      "2023-11-10 16:33:45,095 INFO {/home/gac/nuplan_explore/nuplan-devkit/nuplan/planning/script/builders/folder_builder.py:35}  \n",
      "\n",
      "\tFolder where all results are stored: /tmp/tmpzg_s5hov/planner_tutorial/planner_tutorial\n",
      "\n",
      "2023-11-10 16:33:45,105 INFO {/home/gac/nuplan_explore/nuplan-devkit/nuplan/planning/script/builders/folder_builder.py:70}  Building experiment folders...DONE!\n",
      "2023-11-10 16:33:45,105 INFO {/home/gac/nuplan_explore/nuplan-devkit/nuplan/planning/script/builders/simulation_callback_builder.py:52}  Building AbstractCallback...\n",
      "2023-11-10 16:33:45,106 INFO {/home/gac/nuplan_explore/nuplan-devkit/nuplan/planning/script/builders/simulation_callback_builder.py:68}  Building AbstractCallback: 0...DONE!\n",
      "2023-11-10 16:33:45,106 INFO {/home/gac/nuplan_explore/nuplan-devkit/nuplan/planning/script/builders/simulation_builder.py:47}  Building simulations...\n",
      "2023-11-10 16:33:45,106 INFO {/home/gac/nuplan_explore/nuplan-devkit/nuplan/planning/script/builders/simulation_builder.py:53}  Extracting scenarios...\n",
      "2023-11-10 16:33:45,106 INFO {/home/gac/nuplan_explore/nuplan-devkit/nuplan/common/utils/distributed_scenario_filter.py:83}  Building Scenarios in mode DistributedMode.SINGLE_NODE\n",
      "2023-11-10 16:33:45,106 INFO {/home/gac/nuplan_explore/nuplan-devkit/nuplan/planning/script/builders/scenario_building_builder.py:18}  Building AbstractScenarioBuilder...\n",
      "2023-11-10 16:33:45,118 INFO {/home/gac/nuplan_explore/nuplan-devkit/nuplan/planning/script/builders/scenario_building_builder.py:21}  Building AbstractScenarioBuilder...DONE!\n",
      "2023-11-10 16:33:45,118 INFO {/home/gac/nuplan_explore/nuplan-devkit/nuplan/planning/script/builders/scenario_filter_builder.py:35}  Building ScenarioFilter...\n",
      "2023-11-10 16:33:45,120 INFO {/home/gac/nuplan_explore/nuplan-devkit/nuplan/planning/script/builders/scenario_filter_builder.py:44}  Building ScenarioFilter...DONE!\n",
      "2023-11-10 16:33:45,153 INFO {/home/gac/nuplan_explore/nuplan-devkit/nuplan/planning/script/builders/simulation_builder.py:74}  Building metric engines...\n",
      "2023-11-10 16:33:45,157 INFO {/home/gac/nuplan_explore/nuplan-devkit/nuplan/planning/script/builders/simulation_builder.py:76}  Building metric engines...DONE\n",
      "2023-11-10 16:33:45,157 INFO {/home/gac/nuplan_explore/nuplan-devkit/nuplan/planning/script/builders/simulation_builder.py:80}  Building simulations from 2 scenarios...\n"
     ]
    },
    {
     "ename": "AssertionError",
     "evalue": "~/nuplan/dataset/maps does not exist!",
     "output_type": "error",
     "traceback": [
      "\u001b[0;31m---------------------------------------------------------------------------\u001b[0m",
      "\u001b[0;31mAssertionError\u001b[0m                            Traceback (most recent call last)",
      "Cell \u001b[0;32mIn[8], line 6\u001b[0m\n\u001b[1;32m      3\u001b[0m planner \u001b[38;5;241m=\u001b[39m SimplePlanner(horizon_seconds\u001b[38;5;241m=\u001b[39m\u001b[38;5;241m10.0\u001b[39m, sampling_time\u001b[38;5;241m=\u001b[39m\u001b[38;5;241m0.25\u001b[39m, acceleration\u001b[38;5;241m=\u001b[39m[\u001b[38;5;241m0.0\u001b[39m, \u001b[38;5;241m0.0\u001b[39m])\n\u001b[1;32m      5\u001b[0m \u001b[38;5;66;03m# Run the simulation loop (real-time visualization not yet supported, see next section for visualization)\u001b[39;00m\n\u001b[0;32m----> 6\u001b[0m \u001b[43mmain_simulation\u001b[49m\u001b[43m(\u001b[49m\u001b[43mcfg\u001b[49m\u001b[43m,\u001b[49m\u001b[43m \u001b[49m\u001b[43mplanner\u001b[49m\u001b[43m)\u001b[49m\n",
      "File \u001b[0;32m~/nuplan_explore/nuplan-devkit/nuplan/planning/script/run_simulation.py:66\u001b[0m, in \u001b[0;36mrun_simulation\u001b[0;34m(cfg, planners)\u001b[0m\n\u001b[1;32m     63\u001b[0m \u001b[38;5;28;01mif\u001b[39;00m \u001b[38;5;28misinstance\u001b[39m(planners, AbstractPlanner):\n\u001b[1;32m     64\u001b[0m     planners \u001b[38;5;241m=\u001b[39m [planners]\n\u001b[0;32m---> 66\u001b[0m runners \u001b[38;5;241m=\u001b[39m \u001b[43mbuild_simulations\u001b[49m\u001b[43m(\u001b[49m\n\u001b[1;32m     67\u001b[0m \u001b[43m    \u001b[49m\u001b[43mcfg\u001b[49m\u001b[38;5;241;43m=\u001b[39;49m\u001b[43mcfg\u001b[49m\u001b[43m,\u001b[49m\n\u001b[1;32m     68\u001b[0m \u001b[43m    \u001b[49m\u001b[43mcallbacks\u001b[49m\u001b[38;5;241;43m=\u001b[39;49m\u001b[43mcallbacks\u001b[49m\u001b[43m,\u001b[49m\n\u001b[1;32m     69\u001b[0m \u001b[43m    \u001b[49m\u001b[43mworker\u001b[49m\u001b[38;5;241;43m=\u001b[39;49m\u001b[43mcommon_builder\u001b[49m\u001b[38;5;241;43m.\u001b[39;49m\u001b[43mworker\u001b[49m\u001b[43m,\u001b[49m\n\u001b[1;32m     70\u001b[0m \u001b[43m    \u001b[49m\u001b[43mpre_built_planners\u001b[49m\u001b[38;5;241;43m=\u001b[39;49m\u001b[43mplanners\u001b[49m\u001b[43m,\u001b[49m\n\u001b[1;32m     71\u001b[0m \u001b[43m    \u001b[49m\u001b[43mcallbacks_worker\u001b[49m\u001b[38;5;241;43m=\u001b[39;49m\u001b[43mcallbacks_worker_pool\u001b[49m\u001b[43m,\u001b[49m\n\u001b[1;32m     72\u001b[0m \u001b[43m\u001b[49m\u001b[43m)\u001b[49m\n\u001b[1;32m     74\u001b[0m \u001b[38;5;28;01mif\u001b[39;00m common_builder\u001b[38;5;241m.\u001b[39mprofiler:\n\u001b[1;32m     75\u001b[0m     \u001b[38;5;66;03m# Stop simulation construction profiling\u001b[39;00m\n\u001b[1;32m     76\u001b[0m     common_builder\u001b[38;5;241m.\u001b[39mprofiler\u001b[38;5;241m.\u001b[39msave_profiler(profiler_name)\n",
      "File \u001b[0;32m~/nuplan_explore/nuplan-devkit/nuplan/planning/script/builders/simulation_builder.py:126\u001b[0m, in \u001b[0;36mbuild_simulations\u001b[0;34m(cfg, worker, callbacks, callbacks_worker, pre_built_planners)\u001b[0m\n\u001b[1;32m    118\u001b[0m         \u001b[38;5;66;03m# Construct simulation and manager\u001b[39;00m\n\u001b[1;32m    119\u001b[0m         simulation_setup \u001b[38;5;241m=\u001b[39m SimulationSetup(\n\u001b[1;32m    120\u001b[0m             time_controller\u001b[38;5;241m=\u001b[39msimulation_time_controller,\n\u001b[1;32m    121\u001b[0m             observations\u001b[38;5;241m=\u001b[39mobservations,\n\u001b[1;32m    122\u001b[0m             ego_controller\u001b[38;5;241m=\u001b[39mego_controller,\n\u001b[1;32m    123\u001b[0m             scenario\u001b[38;5;241m=\u001b[39mscenario,\n\u001b[1;32m    124\u001b[0m         )\n\u001b[0;32m--> 126\u001b[0m         simulation \u001b[38;5;241m=\u001b[39m \u001b[43mSimulation\u001b[49m\u001b[43m(\u001b[49m\n\u001b[1;32m    127\u001b[0m \u001b[43m            \u001b[49m\u001b[43msimulation_setup\u001b[49m\u001b[38;5;241;43m=\u001b[39;49m\u001b[43msimulation_setup\u001b[49m\u001b[43m,\u001b[49m\n\u001b[1;32m    128\u001b[0m \u001b[43m            \u001b[49m\u001b[43mcallback\u001b[49m\u001b[38;5;241;43m=\u001b[39;49m\u001b[43mMultiCallback\u001b[49m\u001b[43m(\u001b[49m\u001b[43mcallbacks\u001b[49m\u001b[43m \u001b[49m\u001b[38;5;241;43m+\u001b[39;49m\u001b[43m \u001b[49m\u001b[43mstateful_callbacks\u001b[49m\u001b[43m)\u001b[49m\u001b[43m,\u001b[49m\n\u001b[1;32m    129\u001b[0m \u001b[43m            \u001b[49m\u001b[43msimulation_history_buffer_duration\u001b[49m\u001b[38;5;241;43m=\u001b[39;49m\u001b[43mcfg\u001b[49m\u001b[38;5;241;43m.\u001b[39;49m\u001b[43msimulation_history_buffer_duration\u001b[49m\u001b[43m,\u001b[49m\n\u001b[1;32m    130\u001b[0m \u001b[43m        \u001b[49m\u001b[43m)\u001b[49m\n\u001b[1;32m    131\u001b[0m         simulations\u001b[38;5;241m.\u001b[39mappend(SimulationRunner(simulation, planner))\n\u001b[1;32m    133\u001b[0m logger\u001b[38;5;241m.\u001b[39minfo(\u001b[38;5;124m'\u001b[39m\u001b[38;5;124mBuilding simulations...DONE!\u001b[39m\u001b[38;5;124m'\u001b[39m)\n",
      "File \u001b[0;32m~/nuplan_explore/nuplan-devkit/nuplan/planning/simulation/simulation.py:52\u001b[0m, in \u001b[0;36mSimulation.__init__\u001b[0;34m(self, simulation_setup, callback, simulation_history_buffer_duration)\u001b[0m\n\u001b[1;32m     49\u001b[0m \u001b[38;5;28mself\u001b[39m\u001b[38;5;241m.\u001b[39m_callback \u001b[38;5;241m=\u001b[39m MultiCallback([]) \u001b[38;5;28;01mif\u001b[39;00m callback \u001b[38;5;129;01mis\u001b[39;00m \u001b[38;5;28;01mNone\u001b[39;00m \u001b[38;5;28;01melse\u001b[39;00m callback\n\u001b[1;32m     51\u001b[0m \u001b[38;5;66;03m# History where the steps of a simulation are stored\u001b[39;00m\n\u001b[0;32m---> 52\u001b[0m \u001b[38;5;28mself\u001b[39m\u001b[38;5;241m.\u001b[39m_history \u001b[38;5;241m=\u001b[39m SimulationHistory(\u001b[38;5;28;43mself\u001b[39;49m\u001b[38;5;241;43m.\u001b[39;49m\u001b[43m_scenario\u001b[49m\u001b[38;5;241;43m.\u001b[39;49m\u001b[43mmap_api\u001b[49m, \u001b[38;5;28mself\u001b[39m\u001b[38;5;241m.\u001b[39m_scenario\u001b[38;5;241m.\u001b[39mget_mission_goal())\n\u001b[1;32m     54\u001b[0m \u001b[38;5;66;03m# Rolling window of past states\u001b[39;00m\n\u001b[1;32m     55\u001b[0m \u001b[38;5;66;03m# We add self._scenario.database_interval to the buffer duration here to ensure that the minimum\u001b[39;00m\n\u001b[1;32m     56\u001b[0m \u001b[38;5;66;03m# simulation_history_buffer_duration is satisfied\u001b[39;00m\n\u001b[1;32m     57\u001b[0m \u001b[38;5;28mself\u001b[39m\u001b[38;5;241m.\u001b[39m_simulation_history_buffer_duration \u001b[38;5;241m=\u001b[39m simulation_history_buffer_duration \u001b[38;5;241m+\u001b[39m \u001b[38;5;28mself\u001b[39m\u001b[38;5;241m.\u001b[39m_scenario\u001b[38;5;241m.\u001b[39mdatabase_interval\n",
      "File \u001b[0;32m~/nuplan_explore/nuplan-devkit/nuplan/planning/scenario_builder/nuplan_db/nuplan_scenario.py:203\u001b[0m, in \u001b[0;36mNuPlanScenario.map_api\u001b[0;34m(self)\u001b[0m\n\u001b[1;32m    200\u001b[0m \u001b[38;5;129m@property\u001b[39m\n\u001b[1;32m    201\u001b[0m \u001b[38;5;28;01mdef\u001b[39;00m \u001b[38;5;21mmap_api\u001b[39m(\u001b[38;5;28mself\u001b[39m) \u001b[38;5;241m-\u001b[39m\u001b[38;5;241m>\u001b[39m AbstractMap:\n\u001b[1;32m    202\u001b[0m \u001b[38;5;250m    \u001b[39m\u001b[38;5;124;03m\"\"\"Inherited, see superclass.\"\"\"\u001b[39;00m\n\u001b[0;32m--> 203\u001b[0m     \u001b[38;5;28;01mreturn\u001b[39;00m \u001b[43mget_maps_api\u001b[49m\u001b[43m(\u001b[49m\u001b[38;5;28;43mself\u001b[39;49m\u001b[38;5;241;43m.\u001b[39;49m\u001b[43m_map_root\u001b[49m\u001b[43m,\u001b[49m\u001b[43m \u001b[49m\u001b[38;5;28;43mself\u001b[39;49m\u001b[38;5;241;43m.\u001b[39;49m\u001b[43m_map_version\u001b[49m\u001b[43m,\u001b[49m\u001b[43m \u001b[49m\u001b[38;5;28;43mself\u001b[39;49m\u001b[38;5;241;43m.\u001b[39;49m\u001b[43m_map_name\u001b[49m\u001b[43m)\u001b[49m\n",
      "File \u001b[0;32m~/nuplan_explore/nuplan-devkit/nuplan/common/maps/nuplan_map/map_factory.py:60\u001b[0m, in \u001b[0;36mget_maps_api\u001b[0;34m(map_root, map_version, map_name)\u001b[0m\n\u001b[1;32m     51\u001b[0m \u001b[38;5;129m@lru_cache\u001b[39m(maxsize\u001b[38;5;241m=\u001b[39m\u001b[38;5;241m32\u001b[39m)\n\u001b[1;32m     52\u001b[0m \u001b[38;5;28;01mdef\u001b[39;00m \u001b[38;5;21mget_maps_api\u001b[39m(map_root: \u001b[38;5;28mstr\u001b[39m, map_version: \u001b[38;5;28mstr\u001b[39m, map_name: \u001b[38;5;28mstr\u001b[39m) \u001b[38;5;241m-\u001b[39m\u001b[38;5;241m>\u001b[39m NuPlanMap:\n\u001b[1;32m     53\u001b[0m \u001b[38;5;250m    \u001b[39m\u001b[38;5;124;03m\"\"\"\u001b[39;00m\n\u001b[1;32m     54\u001b[0m \u001b[38;5;124;03m    Get a NuPlanMap object corresponding to a particular set of parameters.\u001b[39;00m\n\u001b[1;32m     55\u001b[0m \u001b[38;5;124;03m    :param map_root: The root folder for the map data.\u001b[39;00m\n\u001b[0;32m   (...)\u001b[0m\n\u001b[1;32m     58\u001b[0m \u001b[38;5;124;03m    :return: The loaded NuPlanMap object.\u001b[39;00m\n\u001b[1;32m     59\u001b[0m \u001b[38;5;124;03m    \"\"\"\u001b[39;00m\n\u001b[0;32m---> 60\u001b[0m     maps_db \u001b[38;5;241m=\u001b[39m \u001b[43mget_maps_db\u001b[49m\u001b[43m(\u001b[49m\u001b[43mmap_root\u001b[49m\u001b[43m,\u001b[49m\u001b[43m \u001b[49m\u001b[43mmap_version\u001b[49m\u001b[43m)\u001b[49m\n\u001b[1;32m     61\u001b[0m     \u001b[38;5;28;01mreturn\u001b[39;00m NuPlanMap(maps_db, map_name\u001b[38;5;241m.\u001b[39mreplace(\u001b[38;5;124m\"\u001b[39m\u001b[38;5;124m.gpkg\u001b[39m\u001b[38;5;124m\"\u001b[39m, \u001b[38;5;124m\"\u001b[39m\u001b[38;5;124m\"\u001b[39m))\n",
      "File \u001b[0;32m~/nuplan_explore/nuplan-devkit/nuplan/common/maps/nuplan_map/map_factory.py:48\u001b[0m, in \u001b[0;36mget_maps_db\u001b[0;34m(map_root, map_version)\u001b[0m\n\u001b[1;32m     40\u001b[0m \u001b[38;5;129m@lru_cache\u001b[39m(maxsize\u001b[38;5;241m=\u001b[39m\u001b[38;5;241m2\u001b[39m)\n\u001b[1;32m     41\u001b[0m \u001b[38;5;28;01mdef\u001b[39;00m \u001b[38;5;21mget_maps_db\u001b[39m(map_root: \u001b[38;5;28mstr\u001b[39m, map_version: \u001b[38;5;28mstr\u001b[39m) \u001b[38;5;241m-\u001b[39m\u001b[38;5;241m>\u001b[39m GPKGMapsDB:\n\u001b[1;32m     42\u001b[0m \u001b[38;5;250m    \u001b[39m\u001b[38;5;124;03m\"\"\"\u001b[39;00m\n\u001b[1;32m     43\u001b[0m \u001b[38;5;124;03m    Get a maps_db from disk.\u001b[39;00m\n\u001b[1;32m     44\u001b[0m \u001b[38;5;124;03m    :param map_root: The root folder for the map data.\u001b[39;00m\n\u001b[1;32m     45\u001b[0m \u001b[38;5;124;03m    :param map_version: The version of the map to load.\u001b[39;00m\n\u001b[1;32m     46\u001b[0m \u001b[38;5;124;03m    :return; The loaded MapsDB object.\u001b[39;00m\n\u001b[1;32m     47\u001b[0m \u001b[38;5;124;03m    \"\"\"\u001b[39;00m\n\u001b[0;32m---> 48\u001b[0m     \u001b[38;5;28;01mreturn\u001b[39;00m \u001b[43mGPKGMapsDB\u001b[49m\u001b[43m(\u001b[49m\u001b[43mmap_root\u001b[49m\u001b[38;5;241;43m=\u001b[39;49m\u001b[43mmap_root\u001b[49m\u001b[43m,\u001b[49m\u001b[43m \u001b[49m\u001b[43mmap_version\u001b[49m\u001b[38;5;241;43m=\u001b[39;49m\u001b[43mmap_version\u001b[49m\u001b[43m)\u001b[49m\n",
      "File \u001b[0;32m~/nuplan_explore/nuplan-devkit/nuplan/database/maps_db/gpkg_mapsdb.py:72\u001b[0m, in \u001b[0;36mGPKGMapsDB.__init__\u001b[0;34m(self, map_version, map_root)\u001b[0m\n\u001b[1;32m     69\u001b[0m \u001b[38;5;28mself\u001b[39m\u001b[38;5;241m.\u001b[39m_map_version \u001b[38;5;241m=\u001b[39m map_version\n\u001b[1;32m     70\u001b[0m \u001b[38;5;28mself\u001b[39m\u001b[38;5;241m.\u001b[39m_map_root \u001b[38;5;241m=\u001b[39m map_root\n\u001b[0;32m---> 72\u001b[0m \u001b[38;5;28mself\u001b[39m\u001b[38;5;241m.\u001b[39m_blob_store \u001b[38;5;241m=\u001b[39m \u001b[43mBlobStoreCreator\u001b[49m\u001b[38;5;241;43m.\u001b[39;49m\u001b[43mcreate_mapsdb\u001b[49m\u001b[43m(\u001b[49m\u001b[43mmap_root\u001b[49m\u001b[38;5;241;43m=\u001b[39;49m\u001b[38;5;28;43mself\u001b[39;49m\u001b[38;5;241;43m.\u001b[39;49m\u001b[43m_map_root\u001b[49m\u001b[43m)\u001b[49m\n\u001b[1;32m     73\u001b[0m version_file \u001b[38;5;241m=\u001b[39m \u001b[38;5;28mself\u001b[39m\u001b[38;5;241m.\u001b[39m_blob_store\u001b[38;5;241m.\u001b[39mget(\u001b[38;5;124mf\u001b[39m\u001b[38;5;124m\"\u001b[39m\u001b[38;5;132;01m{\u001b[39;00m\u001b[38;5;28mself\u001b[39m\u001b[38;5;241m.\u001b[39m_map_version\u001b[38;5;132;01m}\u001b[39;00m\u001b[38;5;124m.json\u001b[39m\u001b[38;5;124m\"\u001b[39m)  \u001b[38;5;66;03m# get blob and save to disk\u001b[39;00m\n\u001b[1;32m     74\u001b[0m \u001b[38;5;28mself\u001b[39m\u001b[38;5;241m.\u001b[39m_metadata \u001b[38;5;241m=\u001b[39m json\u001b[38;5;241m.\u001b[39mload(version_file)\n",
      "File \u001b[0;32m~/nuplan_explore/nuplan-devkit/nuplan/database/common/blob_store/creator.py:54\u001b[0m, in \u001b[0;36mBlobStoreCreator.create_mapsdb\u001b[0;34m(cls, map_root, verbose)\u001b[0m\n\u001b[1;32m     42\u001b[0m \u001b[38;5;250m\u001b[39m\u001b[38;5;124;03m\"\"\"\u001b[39;00m\n\u001b[1;32m     43\u001b[0m \u001b[38;5;124;03mCreate Maps DB blob storage.\u001b[39;00m\n\u001b[1;32m     44\u001b[0m \n\u001b[0;32m   (...)\u001b[0m\n\u001b[1;32m     47\u001b[0m \u001b[38;5;124;03m:return: Blob storage created.\u001b[39;00m\n\u001b[1;32m     48\u001b[0m \u001b[38;5;124;03m\"\"\"\u001b[39;00m\n\u001b[1;32m     49\u001b[0m conf \u001b[38;5;241m=\u001b[39m RemoteConfig(\n\u001b[1;32m     50\u001b[0m     http_root_url\u001b[38;5;241m=\u001b[39mos\u001b[38;5;241m.\u001b[39mgetenv(\u001b[38;5;124m\"\u001b[39m\u001b[38;5;124mNUPLAN_MAPS_ROOT_HTTP_URL\u001b[39m\u001b[38;5;124m\"\u001b[39m, \u001b[38;5;124m\"\u001b[39m\u001b[38;5;124m\"\u001b[39m),\n\u001b[1;32m     51\u001b[0m     s3_root_url\u001b[38;5;241m=\u001b[39mos\u001b[38;5;241m.\u001b[39mgetenv(\u001b[38;5;124m\"\u001b[39m\u001b[38;5;124mNUPLAN_MAPS_ROOT_S3_URL\u001b[39m\u001b[38;5;124m\"\u001b[39m, \u001b[38;5;124m\"\u001b[39m\u001b[38;5;124m\"\u001b[39m),\n\u001b[1;32m     52\u001b[0m )\n\u001b[0;32m---> 54\u001b[0m \u001b[38;5;28;01mreturn\u001b[39;00m \u001b[38;5;28;43mcls\u001b[39;49m\u001b[38;5;241;43m.\u001b[39;49m\u001b[43mcreate\u001b[49m\u001b[43m(\u001b[49m\u001b[43mmap_root\u001b[49m\u001b[43m,\u001b[49m\u001b[43m \u001b[49m\u001b[43mconf\u001b[49m\u001b[43m,\u001b[49m\u001b[43m \u001b[49m\u001b[43mverbose\u001b[49m\u001b[43m)\u001b[49m\n",
      "File \u001b[0;32m~/nuplan_explore/nuplan-devkit/nuplan/database/common/blob_store/creator.py:76\u001b[0m, in \u001b[0;36mBlobStoreCreator.create\u001b[0;34m(cls, data_root, conf, verbose)\u001b[0m\n\u001b[1;32m     74\u001b[0m \u001b[38;5;28;01melif\u001b[39;00m NUPLAN_DATA_STORE \u001b[38;5;241m==\u001b[39m \u001b[38;5;124m\"\u001b[39m\u001b[38;5;124mlocal\u001b[39m\u001b[38;5;124m\"\u001b[39m:\n\u001b[1;32m     75\u001b[0m     logger\u001b[38;5;241m.\u001b[39mdebug(\u001b[38;5;124mf\u001b[39m\u001b[38;5;124m\"\u001b[39m\u001b[38;5;124mUsing local disk store at \u001b[39m\u001b[38;5;132;01m{\u001b[39;00mdata_root\u001b[38;5;132;01m}\u001b[39;00m\u001b[38;5;124m with no remote store\u001b[39m\u001b[38;5;124m\"\u001b[39m)\n\u001b[0;32m---> 76\u001b[0m     \u001b[38;5;28;01mreturn\u001b[39;00m \u001b[43mLocalStore\u001b[49m\u001b[43m(\u001b[49m\u001b[43mdata_root\u001b[49m\u001b[43m)\u001b[49m\n\u001b[1;32m     77\u001b[0m \u001b[38;5;66;03m# Default to S3 if environment variable is empty or not set.\u001b[39;00m\n\u001b[1;32m     78\u001b[0m \u001b[38;5;28;01melif\u001b[39;00m NUPLAN_DATA_STORE \u001b[38;5;241m==\u001b[39m \u001b[38;5;124m\"\u001b[39m\u001b[38;5;124ms3\u001b[39m\u001b[38;5;124m\"\u001b[39m:\n",
      "File \u001b[0;32m~/nuplan_explore/nuplan-devkit/nuplan/database/common/blob_store/local_store.py:22\u001b[0m, in \u001b[0;36mLocalStore.__init__\u001b[0;34m(self, root_dir)\u001b[0m\n\u001b[1;32m     17\u001b[0m \u001b[38;5;250m\u001b[39m\u001b[38;5;124;03m\"\"\"\u001b[39;00m\n\u001b[1;32m     18\u001b[0m \u001b[38;5;124;03mInitialize LocalStore.\u001b[39;00m\n\u001b[1;32m     19\u001b[0m \u001b[38;5;124;03m:param root_dir: Root directory containing the data.\u001b[39;00m\n\u001b[1;32m     20\u001b[0m \u001b[38;5;124;03m\"\"\"\u001b[39;00m\n\u001b[1;32m     21\u001b[0m \u001b[38;5;28mself\u001b[39m\u001b[38;5;241m.\u001b[39m_root_dir \u001b[38;5;241m=\u001b[39m root_dir\n\u001b[0;32m---> 22\u001b[0m \u001b[38;5;28;01massert\u001b[39;00m os\u001b[38;5;241m.\u001b[39mpath\u001b[38;5;241m.\u001b[39misdir(\u001b[38;5;28mself\u001b[39m\u001b[38;5;241m.\u001b[39m_root_dir), \u001b[38;5;124m'\u001b[39m\u001b[38;5;132;01m%s\u001b[39;00m\u001b[38;5;124m does not exist!\u001b[39m\u001b[38;5;124m'\u001b[39m \u001b[38;5;241m%\u001b[39m \u001b[38;5;28mself\u001b[39m\u001b[38;5;241m.\u001b[39m_root_dir\n\u001b[1;32m     23\u001b[0m \u001b[38;5;28;01massert\u001b[39;00m os\u001b[38;5;241m.\u001b[39maccess(\u001b[38;5;28mself\u001b[39m\u001b[38;5;241m.\u001b[39m_root_dir, os\u001b[38;5;241m.\u001b[39mR_OK \u001b[38;5;241m|\u001b[39m os\u001b[38;5;241m.\u001b[39mX_OK), \u001b[38;5;124m'\u001b[39m\u001b[38;5;124mcan not read from \u001b[39m\u001b[38;5;132;01m%s\u001b[39;00m\u001b[38;5;124m'\u001b[39m \u001b[38;5;241m%\u001b[39m \u001b[38;5;28mself\u001b[39m\u001b[38;5;241m.\u001b[39m_root_dir\n",
      "\u001b[0;31mAssertionError\u001b[0m: ~/nuplan/dataset/maps does not exist!"
     ]
    }
   ],
   "source": [
    "from nuplan.planning.script.run_simulation import run_simulation as main_simulation\n",
    "\n",
    "planner = SimplePlanner(horizon_seconds=10.0, sampling_time=0.25, acceleration=[0.0, 0.0])\n",
    "\n",
    "# Run the simulation loop (real-time visualization not yet supported, see next section for visualization)\n",
    "main_simulation(cfg, planner)"
   ]
  },
  {
   "cell_type": "code",
   "execution_count": null,
   "id": "5ba1cece",
   "metadata": {},
   "outputs": [],
   "source": [
    "# Get nuBoard simulation file for visualization later on\n",
    "simulation_file = [str(file) for file in Path(cfg.output_dir).iterdir() if file.is_file() and file.suffix == '.nuboard']"
   ]
  },
  {
   "cell_type": "markdown",
   "id": "c53b9c2e",
   "metadata": {},
   "source": [
    "# Visualizing metrics and scenarios  <a name=\"dashboard\"></a>"
   ]
  },
  {
   "cell_type": "markdown",
   "id": "7514e91c",
   "metadata": {},
   "source": [
    "## nuBoard summary\n",
    "\n",
    "For visualization, we use nuBoard to evaluate the planner:\n",
    "* quantitatively, through common and scenario dependent metrics\n",
    "* qualitatively, through visualization of scenario progression\n",
    "\n",
    "### nuBoard tabs\n",
    "To achieve that, nuBoard has 3 core evaluation tabs:\n",
    "1. Overview - Scalar metrics summary of common and scenario metrics across the following categories:\n",
    "    * Ego dynamics\n",
    "    * Traffic violations\n",
    "    * Expert imitation\n",
    "    * Planning & navigation\n",
    "    * Scenario performance\n",
    "2. Histograms - Histograms over metric statistics for more a granular peek inside each metric focusing on:\n",
    "    * Metric statistics (e.g. min, max, p90)\n",
    "3. Scenarios - Low-level scenario visualizations:\n",
    "    * Time-series progression of a specific metric across a scenario\n",
    "    * Top-down visualization of the scenario across time for comparing predicted vs. expert trajectories\n",
    "\n",
    "In addition, there is a main configuration tab for selecting different simulation files for comparing planners/experiments.\n",
    "\n",
    "<br />\n",
    "\n",
    "**NOTE**: nuBoard is under heavy developement, overall functionality and aesthetics do not represent the final product!"
   ]
  },
  {
   "cell_type": "markdown",
   "id": "c546ba9d",
   "metadata": {},
   "source": [
    "## Prepare the nuBoard config"
   ]
  },
  {
   "cell_type": "code",
   "execution_count": null,
   "id": "24732d42",
   "metadata": {},
   "outputs": [],
   "source": [
    "from tutorials.utils.tutorial_utils import construct_nuboard_hydra_paths\n",
    "\n",
    "# Location of paths with all nuBoard configs\n",
    "nuboard_hydra_paths = construct_nuboard_hydra_paths(BASE_CONFIG_PATH)\n",
    "\n",
    "# Initialize configuration management system\n",
    "hydra.core.global_hydra.GlobalHydra.instance().clear()  # reinitialize hydra if already initialized\n",
    "hydra.initialize(config_path=nuboard_hydra_paths.config_path)\n",
    "\n",
    "# Compose the configuration\n",
    "cfg = hydra.compose(config_name=nuboard_hydra_paths.config_name, overrides=[\n",
    "    'scenario_builder=nuplan_mini',  # set the database (same as simulation) used to fetch data for visualization\n",
    "    f'simulation_path={simulation_file}',  # nuboard file path, if left empty the user can open the file inside nuBoard\n",
    "    f'hydra.searchpath=[{nuboard_hydra_paths.common_dir}, {nuboard_hydra_paths.experiment_dir}]',\n",
    "])"
   ]
  },
  {
   "cell_type": "markdown",
   "id": "67acc351",
   "metadata": {},
   "source": [
    "## Launch nuBoard (open in new tab)"
   ]
  },
  {
   "cell_type": "code",
   "execution_count": null,
   "id": "d1a59ee2",
   "metadata": {},
   "outputs": [],
   "source": [
    "from nuplan.planning.script.run_nuboard import main as main_nuboard\n",
    "\n",
    "# Run nuBoard\n",
    "main_nuboard(cfg)"
   ]
  }
 ],
 "metadata": {
  "interpreter": {
   "hash": "5aea00fa936a67f14323fa2d54163d7dc1f328c617e433b03a680f73ee2dd426"
  },
  "kernelspec": {
   "display_name": "Python 3 (ipykernel)",
   "language": "python",
   "name": "python3"
  },
  "language_info": {
   "codemirror_mode": {
    "name": "ipython",
    "version": 3
   },
   "file_extension": ".py",
   "mimetype": "text/x-python",
   "name": "python",
   "nbconvert_exporter": "python",
   "pygments_lexer": "ipython3",
   "version": "3.9.16"
  },
  "varInspector": {
   "cols": {
    "lenName": 16,
    "lenType": 16,
    "lenVar": 40
   },
   "kernels_config": {
    "python": {
     "delete_cmd_postfix": "",
     "delete_cmd_prefix": "del ",
     "library": "var_list.py",
     "varRefreshCmd": "print(var_dic_list())"
    },
    "r": {
     "delete_cmd_postfix": ") ",
     "delete_cmd_prefix": "rm(",
     "library": "var_list.r",
     "varRefreshCmd": "cat(var_dic_list()) "
    }
   },
   "types_to_exclude": [
    "module",
    "function",
    "builtin_function_or_method",
    "instance",
    "_Feature"
   ],
   "window_display": false
  }
 },
 "nbformat": 4,
 "nbformat_minor": 5
}
