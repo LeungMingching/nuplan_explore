{
 "cells": [
  {
   "cell_type": "markdown",
   "id": "cf1cd6e5",
   "metadata": {},
   "source": [
    "# Schema"
   ]
  },
  {
   "cell_type": "markdown",
   "id": "baf710fd",
   "metadata": {},
   "source": [
    "![](https://github.com/motional/nuplan-devkit/raw/master/docs/nuplan_schema.png)"
   ]
  },
  {
   "cell_type": "markdown",
   "id": "3ff8ff85",
   "metadata": {},
   "source": [
    "## set environment variables"
   ]
  },
  {
   "cell_type": "code",
   "execution_count": 1,
   "id": "0ff31508",
   "metadata": {},
   "outputs": [],
   "source": [
    "import os\n",
    "NUPLAN_DATA_ROOT = os.getenv('NUPLAN_DATA_ROOT', '/home/gac/nuplan_explore/nuplan')\n",
    "NUPLAN_MAPS_ROOT = os.getenv('NUPLAN_MAPS_ROOT', '/home/gac/nuplan_explore/nuplan/dataset/maps')\n",
    "NUPLAN_DB_FILES = os.getenv('NUPLAN_DB_FILES', '/home/gac/nuplan_explore/nuplan/dataset/nuplan-v1.1/mini')\n",
    "NUPLAN_MAP_VERSION = os.getenv('NUPLAN_MAP_VERSION', 'nuplan-maps-v1.0')"
   ]
  },
  {
   "cell_type": "markdown",
   "id": "b0292a99",
   "metadata": {},
   "source": [
    "# ORM Database API"
   ]
  },
  {
   "cell_type": "markdown",
   "id": "1f4fd9a7",
   "metadata": {},
   "source": [
    "## load data"
   ]
  },
  {
   "cell_type": "code",
   "execution_count": null,
   "id": "1df86b5d",
   "metadata": {
    "scrolled": true
   },
   "outputs": [],
   "source": [
    "from nuplan.database.nuplan_db_orm.nuplandb_wrapper import NuPlanDBWrapper\n",
    "\n",
    "nuplandb_wrapper = NuPlanDBWrapper(\n",
    "    data_root=NUPLAN_DATA_ROOT,\n",
    "    map_root=NUPLAN_MAPS_ROOT,\n",
    "    db_files=NUPLAN_DB_FILES,\n",
    "    map_version=NUPLAN_MAP_VERSION,\n",
    ")"
   ]
  },
  {
   "cell_type": "markdown",
   "id": "5fe85b38",
   "metadata": {},
   "source": [
    "## query a database"
   ]
  },
  {
   "cell_type": "code",
   "execution_count": null,
   "id": "54c6289e",
   "metadata": {},
   "outputs": [],
   "source": [
    "log_db_name = \"2021.05.12.22.00.38_veh-35_01008_01518\"\n",
    "log_db = nuplandb_wrapper.get_log_db(log_db_name)"
   ]
  },
  {
   "cell_type": "markdown",
   "id": "f17b64d7",
   "metadata": {},
   "source": [
    "Get all file name"
   ]
  },
  {
   "cell_type": "code",
   "execution_count": null,
   "id": "858b05e9",
   "metadata": {
    "scrolled": true
   },
   "outputs": [],
   "source": [
    "from os import listdir\n",
    "from os.path import isfile, join\n",
    "file_names_with_extension = [f for f in listdir(NUPLAN_DB_FILES) if isfile(join(NUPLAN_DB_FILES, f))]\n",
    "\n",
    "file_names = [name[:-3] for name in file_names_with_extension]\n",
    "file_names"
   ]
  },
  {
   "cell_type": "markdown",
   "id": "c76767a4",
   "metadata": {},
   "source": [
    "## acess data"
   ]
  },
  {
   "cell_type": "code",
   "execution_count": null,
   "id": "62fd5607",
   "metadata": {},
   "outputs": [],
   "source": [
    "len(log_db.scenario_tag)"
   ]
  },
  {
   "cell_type": "code",
   "execution_count": null,
   "id": "359c6e30",
   "metadata": {},
   "outputs": [],
   "source": [
    "len(log_db.lidar_pc)"
   ]
  },
  {
   "cell_type": "code",
   "execution_count": null,
   "id": "238ea33e",
   "metadata": {},
   "outputs": [],
   "source": [
    "log_db.lidar_pc[0]"
   ]
  },
  {
   "cell_type": "code",
   "execution_count": null,
   "id": "4aaa8064",
   "metadata": {
    "scrolled": false
   },
   "outputs": [],
   "source": [
    "raw_scenario = [log_db.scenario_tag[i].type for i in range(len(log_db.scenario_tag))]\n",
    "set(raw_scenario)"
   ]
  },
  {
   "cell_type": "code",
   "execution_count": null,
   "id": "27d85cf4",
   "metadata": {
    "scrolled": true
   },
   "outputs": [],
   "source": [
    "log_db.lidar_box"
   ]
  },
  {
   "cell_type": "markdown",
   "id": "554b9e5d",
   "metadata": {},
   "source": [
    "## filter"
   ]
  },
  {
   "cell_type": "markdown",
   "id": "342653cc",
   "metadata": {},
   "source": [
    "### import data type"
   ]
  },
  {
   "cell_type": "code",
   "execution_count": null,
   "id": "2209c4c5",
   "metadata": {},
   "outputs": [],
   "source": [
    "from nuplan.database.nuplan_db_orm.lidar_pc import LidarPc\n",
    "from nuplan.database.nuplan_db_orm.category import Category\n",
    "from nuplan.database.nuplan_db_orm.ego_pose import EgoPose\n",
    "from nuplan.database.nuplan_db_orm.lidar_box import LidarBox\n",
    "from nuplan.database.nuplan_db_orm.log import Log\n",
    "from nuplan.database.nuplan_db_orm.scene import Scene\n",
    "from nuplan.database.nuplan_db_orm.scenario_tag import ScenarioTag\n",
    "from nuplan.database.nuplan_db_orm.traffic_light_status import TrafficLightStatus\n",
    "from nuplan.database.nuplan_db_orm.track import Track"
   ]
  },
  {
   "cell_type": "markdown",
   "id": "431351cb",
   "metadata": {},
   "source": [
    "### query and filter"
   ]
  },
  {
   "cell_type": "code",
   "execution_count": null,
   "id": "8e69466e",
   "metadata": {
    "scrolled": true
   },
   "outputs": [],
   "source": [
    "scenario_tag_single = log_db.session.query(ScenarioTag) \\\n",
    "  .filter(ScenarioTag.agent_track_token != None) \\\n",
    "  .limit(10) \\\n",
    "  .all()\n",
    "\n",
    "scenario_tag_single"
   ]
  },
  {
   "cell_type": "code",
   "execution_count": null,
   "id": "0acbedb6",
   "metadata": {},
   "outputs": [],
   "source": [
    "lidar_pc_token = scenario_tag_single[0].lidar_pc_token\n",
    "agent_track_token = scenario_tag_single[0].agent_track_token"
   ]
  },
  {
   "cell_type": "code",
   "execution_count": null,
   "id": "bbd53bbe",
   "metadata": {},
   "outputs": [],
   "source": [
    "lidar_pc = log_db.session.query(LidarPc) \\\n",
    "  .filter(LidarPc.token == lidar_pc_token) \\\n",
    "  .all()\n",
    "          \n",
    "lidar_pc"
   ]
  },
  {
   "cell_type": "code",
   "execution_count": null,
   "id": "60e2b67c",
   "metadata": {},
   "outputs": [],
   "source": [
    "scene = log_db.session.query(Scene) \\\n",
    "  .filter(Scene.token == '165060762e765a5a') \\\n",
    "  .all()\n",
    "          \n",
    "scene"
   ]
  },
  {
   "cell_type": "code",
   "execution_count": null,
   "id": "ed996a73",
   "metadata": {},
   "outputs": [],
   "source": [
    "prev_token = lidar_pc[0].prev_token\n",
    "lidar_pc = log_db.session.query(LidarPc) \\\n",
    "  .filter(LidarPc.token == prev_token) \\\n",
    "  .all()\n",
    "          \n",
    "lidar_pc"
   ]
  },
  {
   "cell_type": "markdown",
   "id": "2dbb7119",
   "metadata": {},
   "source": [
    "# Direct SQL API"
   ]
  },
  {
   "cell_type": "code",
   "execution_count": null,
   "id": "720f2bb8",
   "metadata": {},
   "outputs": [],
   "source": [
    "from nuplan.database.nuplan_db.query_session import execute_one, execute_many"
   ]
  },
  {
   "cell_type": "code",
   "execution_count": null,
   "id": "73aa5494",
   "metadata": {},
   "outputs": [],
   "source": [
    "query = \"\"\"\n",
    "SELECT COUNT(*) AS cnt\n",
    "FROM lidar_pc;\n",
    "\"\"\"\n",
    "\n",
    "result = execute_one(query, (), os.path.join(NUPLAN_DB_FILES, f\"{log_db_name}.db\"))\n",
    "print(f\"The number of lidar_pcs in this log files is {result['cnt']}.\")"
   ]
  },
  {
   "cell_type": "code",
   "execution_count": null,
   "id": "166e4870",
   "metadata": {},
   "outputs": [],
   "source": [
    "example_token = \"e1e4ee25d1ff58f2\"\n",
    "query = \"\"\"\n",
    "SELECT ep.x AS ep_x,\n",
    "       ep.y AS ep_y,\n",
    "       ep.z AS ep_z,\n",
    "       lp.token AS token\n",
    "FROM ego_pose AS ep\n",
    "INNER JOIN lidar_pc AS lp\n",
    "  ON lp.ego_pose_token = ep.token\n",
    "WHERE lp.token = ?\n",
    "\"\"\"\n",
    "\n",
    "result = execute_one(\n",
    "    query, \n",
    "    (bytearray.fromhex(example_token),), \n",
    "    os.path.join(NUPLAN_DB_FILES, f\"{log_db_name}.db\")\n",
    ")\n",
    "\n",
    "print(f\"Lidar_pc token: {result['token'].hex()}.\")\n",
    "print(f\"Ego pose: <{result['ep_x']}, {result['ep_y']}, {result['ep_z']}>.\")"
   ]
  },
  {
   "cell_type": "code",
   "execution_count": null,
   "id": "b85fde05",
   "metadata": {},
   "outputs": [],
   "source": []
  },
  {
   "cell_type": "code",
   "execution_count": null,
   "id": "69b70933",
   "metadata": {},
   "outputs": [],
   "source": []
  },
  {
   "cell_type": "code",
   "execution_count": null,
   "id": "e15e57cb",
   "metadata": {},
   "outputs": [],
   "source": []
  },
  {
   "cell_type": "markdown",
   "id": "afedf400",
   "metadata": {},
   "source": [
    "# NuPlanScenarios"
   ]
  },
  {
   "cell_type": "markdown",
   "id": "4d746231",
   "metadata": {},
   "source": [
    "### import"
   ]
  },
  {
   "cell_type": "code",
   "execution_count": 2,
   "id": "0c64006f",
   "metadata": {},
   "outputs": [],
   "source": [
    "import itertools\n",
    "import logging\n",
    "import random\n",
    "from collections import defaultdict\n",
    "from dataclasses import dataclass\n",
    "from os.path import join\n",
    "from pathlib import Path\n",
    "from typing import Any, Dict, List, Optional, Tuple\n",
    "\n",
    "import numpy as np\n",
    "import numpy.typing as npt\n",
    "\n",
    "from nuplan.common.actor_state.vehicle_parameters import get_pacifica_parameters\n",
    "from nuplan.common.maps.nuplan_map.map_factory import NuPlanMapFactory, get_maps_db\n",
    "from nuplan.database.nuplan_db.nuplan_scenario_queries import (\n",
    "    get_lidarpc_token_map_name_from_db,\n",
    "    get_lidarpc_token_timestamp_from_db,\n",
    "    get_lidarpc_tokens_with_scenario_tag_from_db,\n",
    ")\n",
    "from nuplan.planning.nuboard.base.data_class import NuBoardFile, SimulationScenarioKey\n",
    "from nuplan.planning.nuboard.base.experiment_file_data import ExperimentFileData\n",
    "from nuplan.planning.nuboard.base.simulation_tile import SimulationTile\n",
    "from nuplan.planning.scenario_builder.abstract_scenario import AbstractScenario\n",
    "from nuplan.planning.scenario_builder.nuplan_db.nuplan_scenario import NuPlanScenario\n",
    "from nuplan.planning.scenario_builder.nuplan_db.nuplan_scenario_filter_utils import discover_log_dbs\n",
    "from nuplan.planning.scenario_builder.nuplan_db.nuplan_scenario_utils import (\n",
    "    DEFAULT_SCENARIO_NAME,\n",
    "    ScenarioExtractionInfo,\n",
    ")\n",
    "\n",
    "from tutorials.utils.tutorial_utils import get_scenario_type_token_map, get_default_scenario_from_token"
   ]
  },
  {
   "cell_type": "code",
   "execution_count": 3,
   "id": "b5aadb17",
   "metadata": {},
   "outputs": [],
   "source": [
    "data_root=NUPLAN_DATA_ROOT\n",
    "map_root=NUPLAN_MAPS_ROOT\n",
    "db_files=NUPLAN_DB_FILES\n",
    "map_version=NUPLAN_MAP_VERSION"
   ]
  },
  {
   "cell_type": "markdown",
   "id": "9cff3e1d",
   "metadata": {},
   "source": [
    "### Using `NuPlanScenario` class.\n",
    "Query a desired scenario via `NuPlanScenario` class, e.g., 'near_high_speed_vehicle'."
   ]
  },
  {
   "cell_type": "code",
   "execution_count": 4,
   "id": "e43f8316",
   "metadata": {
    "scrolled": true
   },
   "outputs": [],
   "source": [
    "query_scenario = 'near_high_speed_vehicle'\n",
    "\n",
    "log_db_files = discover_log_dbs(db_files)\n",
    "scenario_type_token_map = get_scenario_type_token_map(log_db_files)"
   ]
  },
  {
   "cell_type": "code",
   "execution_count": 5,
   "id": "8a3371e6",
   "metadata": {},
   "outputs": [],
   "source": [
    "log_db_file, token = random.choice(scenario_type_token_map[query_scenario])\n",
    "scenario = get_default_scenario_from_token(data_root, log_db_file, token, map_root, map_version)"
   ]
  },
  {
   "cell_type": "code",
   "execution_count": 6,
   "id": "357f449a",
   "metadata": {},
   "outputs": [
    {
     "data": {
      "text/plain": [
       "67"
      ]
     },
     "execution_count": 6,
     "metadata": {},
     "output_type": "execute_result"
    }
   ],
   "source": [
    "len(scenario_type_token_map)"
   ]
  },
  {
   "cell_type": "markdown",
   "id": "de66ea90",
   "metadata": {},
   "source": [
    "API params descriptions in `abstract_scenario.py`"
   ]
  },
  {
   "cell_type": "markdown",
   "id": "27fa7f44",
   "metadata": {},
   "source": [
    "### duration of the scenario"
   ]
  },
  {
   "cell_type": "code",
   "execution_count": 7,
   "id": "a0573f30",
   "metadata": {},
   "outputs": [
    {
     "data": {
      "text/plain": [
       "9.400468"
      ]
     },
     "execution_count": 7,
     "metadata": {},
     "output_type": "execute_result"
    }
   ],
   "source": [
    "scenario.duration_s.time_s"
   ]
  },
  {
   "cell_type": "markdown",
   "id": "341798e4",
   "metadata": {},
   "source": [
    "### number of frame the scenario contains"
   ]
  },
  {
   "cell_type": "code",
   "execution_count": 8,
   "id": "bb073236",
   "metadata": {},
   "outputs": [
    {
     "data": {
      "text/plain": [
       "95"
      ]
     },
     "execution_count": 8,
     "metadata": {},
     "output_type": "execute_result"
    }
   ],
   "source": [
    "scenario.get_number_of_iterations()"
   ]
  },
  {
   "cell_type": "markdown",
   "id": "8ff3576e",
   "metadata": {},
   "source": [
    "### frame interval"
   ]
  },
  {
   "cell_type": "code",
   "execution_count": 9,
   "id": "8b7dc70a",
   "metadata": {},
   "outputs": [
    {
     "data": {
      "text/plain": [
       "0.1"
      ]
     },
     "execution_count": 9,
     "metadata": {},
     "output_type": "execute_result"
    }
   ],
   "source": [
    "scenario.database_interval # s"
   ]
  },
  {
   "cell_type": "markdown",
   "id": "fbc5a9d3",
   "metadata": {},
   "source": [
    "### initial ego state"
   ]
  },
  {
   "cell_type": "markdown",
   "id": "24ace93d",
   "metadata": {},
   "source": [
    "location"
   ]
  },
  {
   "cell_type": "code",
   "execution_count": null,
   "id": "d38fba83",
   "metadata": {},
   "outputs": [],
   "source": [
    "scenario.initial_ego_state.agent.center"
   ]
  },
  {
   "cell_type": "markdown",
   "id": "2c74522b",
   "metadata": {},
   "source": [
    "velocity"
   ]
  },
  {
   "cell_type": "code",
   "execution_count": null,
   "id": "01e79fa8",
   "metadata": {},
   "outputs": [],
   "source": [
    "scenario.initial_ego_state.agent.velocity"
   ]
  },
  {
   "cell_type": "markdown",
   "id": "e844df18",
   "metadata": {},
   "source": [
    "acceleration"
   ]
  },
  {
   "cell_type": "code",
   "execution_count": null,
   "id": "a846901b",
   "metadata": {
    "scrolled": true
   },
   "outputs": [],
   "source": [
    "scenario.initial_ego_state.dynamic_car_state.center_acceleration_2d"
   ]
  },
  {
   "cell_type": "code",
   "execution_count": null,
   "id": "f098510f",
   "metadata": {},
   "outputs": [],
   "source": [
    "scenario.get_ego_state_at_iteration(iteration=1).agent.center"
   ]
  },
  {
   "cell_type": "code",
   "execution_count": null,
   "id": "a71e6cd6",
   "metadata": {
    "scrolled": true
   },
   "outputs": [],
   "source": [
    "scenario.get_ego_state_at_iteration(iteration=1).agent.velocity"
   ]
  },
  {
   "cell_type": "code",
   "execution_count": null,
   "id": "d943952d",
   "metadata": {},
   "outputs": [],
   "source": [
    "scenario.get_ego_state_at_iteration(iteration=1).dynamic_car_state.center_acceleration_2d"
   ]
  },
  {
   "cell_type": "code",
   "execution_count": null,
   "id": "0134d907",
   "metadata": {},
   "outputs": [],
   "source": [
    "ego_current_state = scenario.get_ego_state_at_iteration(iteration=1)\n",
    "\n",
    "ego_current_array = np.array(\n",
    "    [ego_current_state.agent.center.x,\n",
    "     ego_current_state.agent.center.y,\n",
    "     ego_current_state.agent.center.heading,\n",
    "     ego_current_state.dynamic_car_state.center_velocity_2d.x,\n",
    "     ego_current_state.dynamic_car_state.center_velocity_2d.y,\n",
    "     ego_current_state.dynamic_car_state.center_acceleration_2d.x,\n",
    "     ego_current_state.dynamic_car_state.center_acceleration_2d.y]\n",
    ")\n"
   ]
  },
  {
   "cell_type": "markdown",
   "id": "31c52138",
   "metadata": {},
   "source": [
    "### ego past trajectory"
   ]
  },
  {
   "cell_type": "code",
   "execution_count": null,
   "id": "5a611707",
   "metadata": {},
   "outputs": [],
   "source": [
    "ego_past_trajectory = scenario.get_ego_past_trajectory(\n",
    "    iteration=0,\n",
    "    time_horizon=5,\n",
    ")\n",
    "\n",
    "ego_past_trajectory"
   ]
  },
  {
   "cell_type": "code",
   "execution_count": null,
   "id": "39ee2a7c",
   "metadata": {
    "scrolled": true
   },
   "outputs": [],
   "source": [
    "past_trajectory = list(ego_past_trajectory)\n",
    "past_trajectory"
   ]
  },
  {
   "cell_type": "code",
   "execution_count": null,
   "id": "4390e212",
   "metadata": {},
   "outputs": [],
   "source": [
    "past_trajectory[2].agent.center"
   ]
  },
  {
   "cell_type": "code",
   "execution_count": null,
   "id": "628ea0a6",
   "metadata": {},
   "outputs": [],
   "source": [
    "past_trajectory[2].dynamic_car_state.center_velocity_2d"
   ]
  },
  {
   "cell_type": "code",
   "execution_count": null,
   "id": "c0dbb5ec",
   "metadata": {},
   "outputs": [],
   "source": [
    "past_trajectory[2].dynamic_car_state.center_acceleration_2d"
   ]
  },
  {
   "cell_type": "code",
   "execution_count": null,
   "id": "3b5abab8",
   "metadata": {},
   "outputs": [],
   "source": [
    "ego_past_array = np.array(\n",
    "    [[past_state.agent.center.x,\n",
    "      past_state.agent.center.y,\n",
    "      past_state.agent.center.heading,\n",
    "      past_state.dynamic_car_state.center_velocity_2d.x,\n",
    "      past_state.dynamic_car_state.center_velocity_2d.y,\n",
    "      past_state.dynamic_car_state.center_acceleration_2d.x,\n",
    "      past_state.dynamic_car_state.center_acceleration_2d.y] for past_state in past_trajectory]\n",
    ")\n",
    "\n",
    "ego_past_array.shape"
   ]
  },
  {
   "cell_type": "markdown",
   "id": "ba2f4904",
   "metadata": {},
   "source": [
    "### ego future trajectory"
   ]
  },
  {
   "cell_type": "code",
   "execution_count": null,
   "id": "9f5599fd",
   "metadata": {},
   "outputs": [],
   "source": [
    "ego_future_trajectory = scenario.get_ego_future_trajectory(\n",
    "    iteration=0, # iteration within scenario 0 <= scenario_iteration < get_number_of_iterations\n",
    "    time_horizon=10, # the desired horizon to the future, s\n",
    ")\n",
    "\n",
    "ego_future_trajectory"
   ]
  },
  {
   "cell_type": "code",
   "execution_count": null,
   "id": "75ca2299",
   "metadata": {
    "scrolled": true
   },
   "outputs": [],
   "source": [
    "future_trajectory = list(ego_future_trajectory)\n",
    "future_trajectory"
   ]
  },
  {
   "cell_type": "markdown",
   "id": "297b2d68",
   "metadata": {},
   "source": [
    "center"
   ]
  },
  {
   "cell_type": "code",
   "execution_count": null,
   "id": "407e1ecb",
   "metadata": {},
   "outputs": [],
   "source": [
    "future_trajectory[0].agent.center"
   ]
  },
  {
   "cell_type": "markdown",
   "id": "8cf85a3f",
   "metadata": {},
   "source": [
    "velocity"
   ]
  },
  {
   "cell_type": "code",
   "execution_count": null,
   "id": "3e53f8e2",
   "metadata": {
    "scrolled": true
   },
   "outputs": [],
   "source": [
    "future_trajectory[0].dynamic_car_state.center_velocity_2d"
   ]
  },
  {
   "cell_type": "markdown",
   "id": "fcfa3079",
   "metadata": {},
   "source": [
    "acceleration"
   ]
  },
  {
   "cell_type": "code",
   "execution_count": null,
   "id": "c6fa39b0",
   "metadata": {},
   "outputs": [],
   "source": [
    "future_trajectory[0].dynamic_car_state.center_acceleration_2d"
   ]
  },
  {
   "cell_type": "code",
   "execution_count": null,
   "id": "3ef1d2a0",
   "metadata": {},
   "outputs": [],
   "source": [
    "future_trajectory[0].time_seconds"
   ]
  },
  {
   "cell_type": "code",
   "execution_count": null,
   "id": "b40876bb",
   "metadata": {},
   "outputs": [],
   "source": [
    "future_trajectory[-1].time_seconds"
   ]
  },
  {
   "cell_type": "code",
   "execution_count": null,
   "id": "bc646e25",
   "metadata": {},
   "outputs": [],
   "source": [
    "ego_future_array = np.array(\n",
    "    [[future_state.agent.center.x,\n",
    "      future_state.agent.center.y,\n",
    "      future_state.agent.center.heading,\n",
    "      future_state.dynamic_car_state.center_velocity_2d.x,\n",
    "      future_state.dynamic_car_state.center_velocity_2d.y,\n",
    "      future_state.dynamic_car_state.center_acceleration_2d.x,\n",
    "      future_state.dynamic_car_state.center_acceleration_2d.y] for future_state in future_trajectory]\n",
    ")\n",
    "\n",
    "ego_future_array"
   ]
  },
  {
   "cell_type": "code",
   "execution_count": null,
   "id": "15847682",
   "metadata": {},
   "outputs": [],
   "source": [
    "np.linalg.norm(np.asarray([ego_future_array[-1][3], ego_future_array[-1][4]]))"
   ]
  },
  {
   "cell_type": "markdown",
   "id": "1c157673",
   "metadata": {},
   "source": [
    "### objects within time window"
   ]
  },
  {
   "cell_type": "code",
   "execution_count": null,
   "id": "404c76e7",
   "metadata": {},
   "outputs": [],
   "source": [
    "tracked_objs_within_t = scenario.get_tracked_objects_within_time_window_at_iteration(\n",
    "    iteration=0,\n",
    "    past_time_horizon=5,\n",
    "    future_time_horizon=0\n",
    ")\n",
    "\n",
    "tracked_objs_within_t"
   ]
  },
  {
   "cell_type": "code",
   "execution_count": null,
   "id": "3172245b",
   "metadata": {},
   "outputs": [],
   "source": [
    "tracked_objs_within_t.tracked_objects.get_static_objects()"
   ]
  },
  {
   "cell_type": "code",
   "execution_count": null,
   "id": "da91dc2c",
   "metadata": {},
   "outputs": [],
   "source": [
    "set([obj.metadata.category_name for obj in tracked_objs_within_t.tracked_objects.get_static_objects()])"
   ]
  },
  {
   "cell_type": "code",
   "execution_count": null,
   "id": "a18ba74f",
   "metadata": {},
   "outputs": [],
   "source": [
    "tracked_objs_within_t.tracked_objects.get_static_objects()[2].center"
   ]
  },
  {
   "cell_type": "code",
   "execution_count": null,
   "id": "7cfa1031",
   "metadata": {},
   "outputs": [],
   "source": [
    "tracked_objs_within_t.tracked_objects.get_agents()"
   ]
  },
  {
   "cell_type": "markdown",
   "id": "78b7ccea",
   "metadata": {},
   "source": [
    "location"
   ]
  },
  {
   "cell_type": "code",
   "execution_count": null,
   "id": "668afbac",
   "metadata": {},
   "outputs": [],
   "source": [
    "set([obj.metadata.category_name for obj in tracked_objs_within_t.tracked_objects.get_agents()])"
   ]
  },
  {
   "cell_type": "code",
   "execution_count": null,
   "id": "3b553c7d",
   "metadata": {},
   "outputs": [],
   "source": [
    "tracked_objs_within_t.tracked_objects.get_agents()[0].center"
   ]
  },
  {
   "cell_type": "markdown",
   "id": "cb7aa08b",
   "metadata": {},
   "source": [
    "velocity"
   ]
  },
  {
   "cell_type": "code",
   "execution_count": null,
   "id": "b25b1a7c",
   "metadata": {},
   "outputs": [],
   "source": [
    "tracked_objs_within_t.tracked_objects.get_agents()[0].velocity.x"
   ]
  },
  {
   "cell_type": "markdown",
   "id": "36ac54e8",
   "metadata": {},
   "source": [
    "**acceleration is NOT given in tracking**"
   ]
  },
  {
   "cell_type": "code",
   "execution_count": null,
   "id": "35137e44",
   "metadata": {},
   "outputs": [],
   "source": [
    "obj = tracked_objs_within_t.tracked_objects.get_agents()[3]"
   ]
  },
  {
   "cell_type": "code",
   "execution_count": null,
   "id": "5fdb36f1",
   "metadata": {},
   "outputs": [],
   "source": [
    "obj.metadata"
   ]
  },
  {
   "cell_type": "markdown",
   "id": "323e293d",
   "metadata": {},
   "source": [
    "### agent at time point"
   ]
  },
  {
   "cell_type": "code",
   "execution_count": null,
   "id": "807a8d67",
   "metadata": {
    "scrolled": true
   },
   "outputs": [],
   "source": [
    "object_current_state = scenario.get_tracked_objects_at_iteration(iteration=1).tracked_objects.get_agents()"
   ]
  },
  {
   "cell_type": "code",
   "execution_count": null,
   "id": "4ef38cc3",
   "metadata": {},
   "outputs": [],
   "source": [
    "obj = scenario.get_tracked_objects_at_iteration(iteration=1).tracked_objects.get_agents()[0]"
   ]
  },
  {
   "cell_type": "code",
   "execution_count": null,
   "id": "bb6f2956",
   "metadata": {},
   "outputs": [],
   "source": [
    "obj.velocity"
   ]
  },
  {
   "cell_type": "code",
   "execution_count": null,
   "id": "c10a50fc",
   "metadata": {},
   "outputs": [],
   "source": [
    "obj.track_token"
   ]
  },
  {
   "cell_type": "code",
   "execution_count": null,
   "id": "22c9d7d6",
   "metadata": {},
   "outputs": [],
   "source": [
    "object_current_array = np.array(\n",
    "    [[obj_state.center.x,\n",
    "      obj_state.center.y,\n",
    "      obj_state.center.heading,\n",
    "      obj_state.velocity.x,\n",
    "      obj_state.velocity.y,\n",
    "      0,\n",
    "      0] for obj_state in object_current_state]\n",
    ")\n",
    "object_current_track_token = np.array(\n",
    "    [obj_state.track_token for obj_state in object_current_state]\n",
    ")"
   ]
  },
  {
   "cell_type": "code",
   "execution_count": null,
   "id": "54696165",
   "metadata": {},
   "outputs": [],
   "source": [
    "object_current_array"
   ]
  },
  {
   "cell_type": "code",
   "execution_count": null,
   "id": "c325013f",
   "metadata": {},
   "outputs": [],
   "source": [
    "object_current_track_token"
   ]
  },
  {
   "cell_type": "code",
   "execution_count": null,
   "id": "f61a78bb",
   "metadata": {},
   "outputs": [],
   "source": [
    "ego_x = ego_current_array[0]\n",
    "ego_y = ego_current_array[1]\n",
    "\n",
    "objects_current_info = []\n",
    "objects_distance = []\n",
    "objects_track_token = []\n",
    "for obj_current_state in object_current_state:\n",
    "    obj_x = obj_current_state.center.x\n",
    "    obj_y = obj_current_state.center.y\n",
    "    dx = obj_x - ego_x\n",
    "    dy = obj_y - ego_y\n",
    "    distance = np.linalg.norm(np.asarray([dx, dy]))\n",
    "\n",
    "    if distance <= 1000:\n",
    "        objects_current_info.append(\n",
    "            [obj_current_state.center.x,\n",
    "             obj_current_state.center.y,\n",
    "             obj_current_state.center.heading,\n",
    "             obj_current_state.velocity.x,\n",
    "             obj_current_state.velocity.y,\n",
    "             0,\n",
    "             0,\n",
    "            distance]\n",
    "        )\n",
    "        objects_distance.append(distance)\n",
    "        objects_track_token.append(obj_current_state.track_token)\n",
    "objects_current_info = np.asarray(objects_current_info)\n",
    "objects_distance = np.asarray(objects_distance)\n",
    "objects_track_token = np.asarray(objects_track_token)"
   ]
  },
  {
   "cell_type": "code",
   "execution_count": null,
   "id": "49f55faf",
   "metadata": {},
   "outputs": [],
   "source": [
    "objects_current_info"
   ]
  },
  {
   "cell_type": "code",
   "execution_count": null,
   "id": "78e0390c",
   "metadata": {},
   "outputs": [],
   "source": [
    "objects_distance"
   ]
  },
  {
   "cell_type": "code",
   "execution_count": null,
   "id": "a1376b62",
   "metadata": {},
   "outputs": [],
   "source": [
    "objects_track_token"
   ]
  },
  {
   "cell_type": "code",
   "execution_count": null,
   "id": "1983d684",
   "metadata": {
    "scrolled": true
   },
   "outputs": [],
   "source": [
    "objects_current_info[objects_distance.argsort()]"
   ]
  },
  {
   "cell_type": "code",
   "execution_count": null,
   "id": "e8949f96",
   "metadata": {},
   "outputs": [],
   "source": [
    "objects_track_token[objects_distance.argsort()]"
   ]
  },
  {
   "cell_type": "code",
   "execution_count": null,
   "id": "35c4ae9a",
   "metadata": {},
   "outputs": [],
   "source": [
    "objects_distance[objects_distance.argsort()]"
   ]
  },
  {
   "cell_type": "code",
   "execution_count": null,
   "id": "fd258c68",
   "metadata": {},
   "outputs": [],
   "source": [
    "len(objects_current_info)"
   ]
  },
  {
   "cell_type": "code",
   "execution_count": null,
   "id": "0fc32ebb",
   "metadata": {},
   "outputs": [],
   "source": [
    "objects_current_info.shape"
   ]
  },
  {
   "cell_type": "code",
   "execution_count": null,
   "id": "cd396699",
   "metadata": {},
   "outputs": [],
   "source": [
    "obj_token = objects_track_token[4]\n",
    "obj_token"
   ]
  },
  {
   "cell_type": "code",
   "execution_count": null,
   "id": "1dbe9668",
   "metadata": {},
   "outputs": [],
   "source": [
    "obj_token = '6aef1d15a12f53bc'\n",
    "np.where(objects_track_token==obj_token)[0].item() if len(np.where(objects_track_token==obj_token)[0]) != 0 else None"
   ]
  },
  {
   "cell_type": "code",
   "execution_count": null,
   "id": "6ba55379",
   "metadata": {},
   "outputs": [],
   "source": [
    "objects_virtual_info = np.zeros((3, objects_current_info.shape[1]))\n",
    "objects_virtual_info"
   ]
  },
  {
   "cell_type": "code",
   "execution_count": null,
   "id": "4e4b5b33",
   "metadata": {},
   "outputs": [],
   "source": [
    "np.concatenate((objects_current_info, objects_virtual_info), axis=0)"
   ]
  },
  {
   "cell_type": "code",
   "execution_count": null,
   "id": "f79f010b",
   "metadata": {},
   "outputs": [],
   "source": []
  },
  {
   "cell_type": "code",
   "execution_count": null,
   "id": "5f392d60",
   "metadata": {},
   "outputs": [],
   "source": [
    "log_db_files = discover_log_dbs(db_files)\n",
    "scenario_type_token_map = get_scenario_type_token_map(log_db_files)\n",
    "scenario_type_list = sorted(scenario_type_token_map.keys())"
   ]
  },
  {
   "cell_type": "code",
   "execution_count": null,
   "id": "435368d6",
   "metadata": {},
   "outputs": [],
   "source": [
    "scenario_dict = {}\n",
    "for scenario_type in scenario_type_list:\n",
    "    scenario_dict[scenario_type] = len(scenario_type_token_map[scenario_type])"
   ]
  },
  {
   "cell_type": "code",
   "execution_count": null,
   "id": "c3c638e4",
   "metadata": {},
   "outputs": [],
   "source": [
    "scenario_dict"
   ]
  },
  {
   "cell_type": "code",
   "execution_count": null,
   "id": "0f200de8",
   "metadata": {},
   "outputs": [],
   "source": [
    "sum(list(scenario_dict.values()))"
   ]
  },
  {
   "cell_type": "code",
   "execution_count": null,
   "id": "8ef98899",
   "metadata": {},
   "outputs": [],
   "source": [
    "labels = list(scenario_dict.keys())\n",
    "sizes = list(scenario_dict.values())"
   ]
  },
  {
   "cell_type": "code",
   "execution_count": null,
   "id": "3ce789de",
   "metadata": {},
   "outputs": [],
   "source": [
    "import matplotlib.pyplot as plt\n",
    "\n",
    "fig, ax = plt.subplots(figsize=(20, 20), subplot_kw=dict(aspect=\"equal\"))\n",
    "\n",
    "data = sizes\n",
    "ingredients = labels\n",
    "\n",
    "\n",
    "def func(pct, allvals):\n",
    "    absolute = int(np.round(pct/100.*np.sum(allvals)))\n",
    "    return f\"{pct:.1f}%\\n({absolute:d})\"\n",
    "\n",
    "\n",
    "wedges, texts, autotexts = ax.pie(data, autopct=lambda pct: func(pct, data),\n",
    "                                  textprops=dict(color=\"w\"))\n",
    "\n",
    "ax.legend(wedges, ingredients,\n",
    "          title=\"Scenario_tag\",\n",
    "          loc=\"center left\",\n",
    "          bbox_to_anchor=(1, 0, 0.5, 1))\n",
    "\n",
    "plt.setp(autotexts, size=8, weight=\"bold\")\n",
    "\n",
    "ax.set_title(\"Scenario distribution\")\n",
    "\n",
    "plt.show()"
   ]
  },
  {
   "cell_type": "code",
   "execution_count": null,
   "id": "f277b279",
   "metadata": {},
   "outputs": [],
   "source": []
  },
  {
   "cell_type": "code",
   "execution_count": 14,
   "id": "0c1e1b9d",
   "metadata": {},
   "outputs": [],
   "source": [
    "agent = {\n",
    "    'a1' : {'x':1, 'y':1, 'vx':1, 'vy':1, 'ax':1, 'ay':2},\n",
    "    'a2' : {'x':1, 'y':1, 'vx':1, 'vy':1, 'ax':1, 'ay':3},\n",
    "    'a3' : {'x':1, 'y':1, 'vx':1, 'vy':1, 'ax':1, 'ay':4}\n",
    "}"
   ]
  },
  {
   "cell_type": "code",
   "execution_count": 16,
   "id": "2b25de73",
   "metadata": {},
   "outputs": [
    {
     "name": "stdout",
     "output_type": "stream",
     "text": [
      "2\n",
      "3\n",
      "4\n"
     ]
    }
   ],
   "source": [
    "for a in agent:\n",
    "    print(agent[a]['ay'])"
   ]
  },
  {
   "cell_type": "code",
   "execution_count": 19,
   "id": "864c9571",
   "metadata": {},
   "outputs": [
    {
     "data": {
      "text/plain": [
       "[3, 4, 5, 6, 7, 8, 9]"
      ]
     },
     "execution_count": 19,
     "metadata": {},
     "output_type": "execute_result"
    }
   ],
   "source": [
    "list(range(3, 10))"
   ]
  },
  {
   "cell_type": "code",
   "execution_count": 20,
   "id": "57ee8538",
   "metadata": {},
   "outputs": [
    {
     "data": {
      "text/plain": [
       "192944.0"
      ]
     },
     "execution_count": 20,
     "metadata": {},
     "output_type": "execute_result"
    }
   ],
   "source": [
    "float('192944')"
   ]
  },
  {
   "cell_type": "code",
   "execution_count": 53,
   "id": "8c6f03ed",
   "metadata": {},
   "outputs": [
    {
     "data": {
      "text/plain": [
       "array([[1, 2, 3],\n",
       "       [4, 5, 6],\n",
       "       [7, 8, 9]])"
      ]
     },
     "execution_count": 53,
     "metadata": {},
     "output_type": "execute_result"
    }
   ],
   "source": [
    "x = np.array([\n",
    "    [1,2,3],\n",
    "    [4,5,6],\n",
    "    [7,8,9]\n",
    "])\n",
    "x"
   ]
  },
  {
   "cell_type": "code",
   "execution_count": 55,
   "id": "a69bc8cc",
   "metadata": {},
   "outputs": [
    {
     "data": {
      "text/plain": [
       "array([[0., 0., 0.],\n",
       "       [0., 0., 0.],\n",
       "       [0., 0., 0.],\n",
       "       [0., 0., 0.],\n",
       "       [0., 0., 0.],\n",
       "       [0., 0., 0.]])"
      ]
     },
     "execution_count": 55,
     "metadata": {},
     "output_type": "execute_result"
    }
   ],
   "source": [
    "x = np.array([])\n",
    "y = x.copy()\n",
    "y.resize((6,3))\n",
    "y"
   ]
  },
  {
   "cell_type": "code",
   "execution_count": null,
   "id": "a5bfafad",
   "metadata": {},
   "outputs": [],
   "source": []
  }
 ],
 "metadata": {
  "kernelspec": {
   "display_name": "Python 3 (ipykernel)",
   "language": "python",
   "name": "python3"
  },
  "language_info": {
   "codemirror_mode": {
    "name": "ipython",
    "version": 3
   },
   "file_extension": ".py",
   "mimetype": "text/x-python",
   "name": "python",
   "nbconvert_exporter": "python",
   "pygments_lexer": "ipython3",
   "version": "3.9.16"
  }
 },
 "nbformat": 4,
 "nbformat_minor": 5
}
