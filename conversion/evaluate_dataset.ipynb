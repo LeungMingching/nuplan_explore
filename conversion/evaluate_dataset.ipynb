{
 "cells": [
  {
   "cell_type": "code",
   "execution_count": 1,
   "id": "31afeb66",
   "metadata": {},
   "outputs": [],
   "source": [
    "import os\n",
    "import random\n",
    "from glob import glob\n",
    "import numpy as np\n",
    "import matplotlib.pyplot as plt"
   ]
  },
  {
   "cell_type": "code",
   "execution_count": 2,
   "id": "f2a08b27",
   "metadata": {},
   "outputs": [],
   "source": [
    "dataset_root = 'converted_dataset_remove_mini_with_map/'\n",
    "scenario_type = 'lane_change_towards_right'\n",
    "start_timestamp = '1632471615250483'"
   ]
  },
  {
   "cell_type": "markdown",
   "id": "c2e75853",
   "metadata": {},
   "source": [
    "# Loading"
   ]
  },
  {
   "cell_type": "markdown",
   "id": "756031b0",
   "metadata": {},
   "source": [
    "find all files"
   ]
  },
  {
   "cell_type": "code",
   "execution_count": 65,
   "id": "61fc852e",
   "metadata": {},
   "outputs": [],
   "source": [
    "# reference line\n",
    "rl_file_list = glob(os.path.join(dataset_root, scenario_type, '*ref_line*.npy'))\n",
    "rl_file_list.sort()\n",
    "\n",
    "# observation for agents\n",
    "obs_file_list = glob(os.path.join(dataset_root, scenario_type, '*observation*.npy'))\n",
    "obs_file_list.sort()\n",
    "\n",
    "# look ahead points\n",
    "lap_file_list = glob(os.path.join(dataset_root, scenario_type, '*look_ahead_pt*.npy'))\n",
    "lap_file_list.sort()"
   ]
  },
  {
   "cell_type": "markdown",
   "id": "654c575f",
   "metadata": {},
   "source": [
    "load .npy"
   ]
  },
  {
   "cell_type": "code",
   "execution_count": 69,
   "id": "e2f8fcb2",
   "metadata": {
    "scrolled": true
   },
   "outputs": [
    {
     "name": "stdout",
     "output_type": "stream",
     "text": [
      "ref_line shape: (3,)\n",
      "observation shape: (230, 11, 8)\n",
      "look_ahead_pt_array shape: (230, 3)\n"
     ]
    }
   ],
   "source": [
    "# load a map file\n",
    "with open(dataset_root + scenario_type + f'/{start_timestamp}_ref_line.npy', 'rb') as f:\n",
    "    ref_line = np.load(f, allow_pickle=True)\n",
    "print(f'ref_line shape: {ref_line.shape}')\n",
    "\n",
    "# load an observation file\n",
    "with open(dataset_root + scenario_type + f'/{start_timestamp}_observation.npy', 'rb') as f:\n",
    "    observation = np.load(f, allow_pickle=True)\n",
    "print(f'observation shape: {observation.shape}')\n",
    "\n",
    "# load ouput file\n",
    "with open(dataset_root + scenario_type + f'/{start_timestamp}_look_ahead_pt.npy', 'rb') as f:\n",
    "    look_ahead_pt_array = np.load(f, allow_pickle=True)   \n",
    "print(f'look_ahead_pt_array shape: {look_ahead_pt_array.shape}')"
   ]
  },
  {
   "cell_type": "code",
   "execution_count": 75,
   "id": "5bdc2f55",
   "metadata": {
    "scrolled": true
   },
   "outputs": [
    {
     "data": {
      "text/plain": [
       "(505, 4)"
      ]
     },
     "execution_count": 75,
     "metadata": {},
     "output_type": "execute_result"
    }
   ],
   "source": [
    "ref_line[0].shape"
   ]
  },
  {
   "cell_type": "markdown",
   "id": "84e6afec",
   "metadata": {},
   "source": [
    "# visualize"
   ]
  },
  {
   "cell_type": "code",
   "execution_count": 78,
   "id": "3b7d4784",
   "metadata": {},
   "outputs": [],
   "source": [
    "# idx= random.choice(range(len(observation)))\n",
    "idx = 0\n",
    "frame = observation[idx]\n",
    "look_ahead_pt = look_ahead_pt_array[idx+50]"
   ]
  },
  {
   "cell_type": "markdown",
   "id": "04482e8c",
   "metadata": {},
   "source": [
    "**!!!ego vx and vy are w.r.t ego coordinate**"
   ]
  },
  {
   "cell_type": "code",
   "execution_count": 83,
   "id": "ee113744",
   "metadata": {
    "scrolled": true
   },
   "outputs": [
    {
     "name": "stdout",
     "output_type": "stream",
     "text": [
      "ego_pose: \n",
      "[ 3.65016063e+05  1.43861145e+05 -2.21501873e+00  6.67514409e+00\n",
      " -2.54890318e-02  5.70150500e-01  7.75198839e-02  1.00000000e+00]\n",
      "\n",
      "objs_pose: \n",
      "[[ 3.65037456e+05  1.43836754e+05 -2.24491512e+00  1.96737861e-03\n",
      "   7.25275260e-03  0.00000000e+00  0.00000000e+00  1.00000000e+00]\n",
      " [ 3.65037028e+05  1.43833783e+05  1.29893784e+00  0.00000000e+00\n",
      "   0.00000000e+00  0.00000000e+00  0.00000000e+00  1.00000000e+00]\n",
      " [ 3.65049742e+05  1.43883104e+05  2.05681733e+00  0.00000000e+00\n",
      "   0.00000000e+00  0.00000000e+00  0.00000000e+00  1.00000000e+00]\n",
      " [ 3.65044591e+05  1.43892143e+05  2.10523468e+00  0.00000000e+00\n",
      "   0.00000000e+00  0.00000000e+00  0.00000000e+00  1.00000000e+00]\n",
      " [ 3.65036010e+05  1.43822745e+05  1.73629535e+00  0.00000000e+00\n",
      "   0.00000000e+00  0.00000000e+00  0.00000000e+00  1.00000000e+00]\n",
      " [ 3.65061529e+05  1.43857857e+05  2.13089810e+00 -5.34555951e+00\n",
      "   8.48943963e+00 -5.77160727e-07 -7.66450262e-07  1.00000000e+00]\n",
      " [ 3.65046066e+05  1.43895861e+05  2.12172506e+00  0.00000000e+00\n",
      "   0.00000000e+00  0.00000000e+00  0.00000000e+00  1.00000000e+00]\n",
      " [ 3.65056048e+05  1.43896633e+05 -9.41827597e-01  3.28979735e+00\n",
      "  -4.83128684e+00 -4.50583758e-07 -7.21501298e-07  1.00000000e+00]\n",
      " [ 3.65051403e+05  1.43804997e+05  2.96971349e+00  0.00000000e+00\n",
      "   0.00000000e+00  0.00000000e+00  0.00000000e+00  1.00000000e+00]\n",
      " [ 3.65045098e+05  1.43921741e+05 -1.94296580e+00  0.00000000e+00\n",
      "   0.00000000e+00  0.00000000e+00  0.00000000e+00  1.00000000e+00]]\n",
      "\n",
      "look_ahead_pt: \n",
      "[3.65000249e+05 1.43840626e+05 8.23786671e+00]\n",
      "\n"
     ]
    }
   ],
   "source": [
    "ego_pose = frame[0]\n",
    "objs_pose = frame[1:]\n",
    "\n",
    "print(f'ego_pose: \\n{ego_pose}\\n')\n",
    "print(f'objs_pose: \\n{objs_pose}\\n')\n",
    "print(f'look_ahead_pt: \\n{look_ahead_pt}\\n')"
   ]
  },
  {
   "cell_type": "code",
   "execution_count": 37,
   "id": "ee4a73fb",
   "metadata": {},
   "outputs": [],
   "source": [
    "ego_vx = ego_pose[3]*np.cos(ego_pose[2]) - ego_pose[4]*np.sin(ego_pose[2])\n",
    "ego_vy = ego_pose[3]*np.sin(ego_pose[2]) + ego_pose[4]*np.cos(ego_pose[2])"
   ]
  },
  {
   "cell_type": "code",
   "execution_count": 38,
   "id": "3db129aa",
   "metadata": {
    "scrolled": false
   },
   "outputs": [
    {
     "data": {
      "image/png": "[encoded data removed]",
      "text/plain": [
       "<Figure size 640x480 with 1 Axes>"
      ]
     },
     "metadata": {},
     "output_type": "display_data"
    }
   ],
   "source": [
    "plt.quiver(0, 0, ego_vx, ego_vy, color='r')\n",
    "plt.scatter(look_ahead_pt[0]-ego_pose[0], look_ahead_pt[1]-ego_pose[1], marker='x')\n",
    "\n",
    "for obj in objs_pose:\n",
    "    if obj[-1] == 0:\n",
    "        continue\n",
    "    plt.quiver(obj[0]-ego_pose[0], obj[1]-ego_pose[1], obj[3], obj[4], color='b')\n",
    "    \n",
    "plt.show()"
   ]
  },
  {
   "cell_type": "markdown",
   "id": "bc3fada6",
   "metadata": {},
   "source": [
    "## utm to bev"
   ]
  },
  {
   "cell_type": "code",
   "execution_count": 39,
   "id": "507219d3",
   "metadata": {},
   "outputs": [],
   "source": [
    "import numpy as np\n",
    "\n",
    "def utm_to_bev(\n",
    "        pt_utm_array: np.ndarray,\n",
    "        ego_x_utm: float,\n",
    "        ego_y_utm: float,\n",
    "        ego_heading_utm: float\n",
    "    ) -> np.ndarray:\n",
    "    \"\"\"Transform list of UTM points to BEV coordinate.\n",
    "\n",
    "    Args:\n",
    "        pt_utm_array (np.ndarray): List of UTM points. [[x, y, heading(Optional)]]\n",
    "        ego_x_utm (float): Ego car x w.r.t. UTM\n",
    "        ego_y_utm (float): Ego car y w.r.t. UTM\n",
    "        ego_heading_utm (float): Ego car heading w.r.t. UTM\n",
    "\n",
    "    Returns:\n",
    "        np.ndarray: List of BEV points\n",
    "    \"\"\"\n",
    "    \n",
    "    def is_heading_provided() -> bool:\n",
    "        return len(pt_utm_array[0]) > 2\n",
    "\n",
    "    pt_bev_array = []\n",
    "    for i in range(len(pt_utm_array)):\n",
    "        pt_utm_x = pt_utm_array[i][0]\n",
    "        pt_utm_y = pt_utm_array[i][1]\n",
    "\n",
    "        pt_x_shifted = pt_utm_x - ego_x_utm\n",
    "        pt_y_shifted = pt_utm_y - ego_y_utm\n",
    "\n",
    "        pt_x_rotated = pt_x_shifted * np.cos(ego_heading_utm) \\\n",
    "                        + pt_y_shifted * np.sin(ego_heading_utm)\n",
    "        pt_y_rotated = - pt_x_shifted * np.sin(ego_heading_utm) \\\n",
    "                        + pt_y_shifted * np.cos(ego_heading_utm)\n",
    "        \n",
    "        if is_heading_provided():\n",
    "            pt_utm_heading = pt_utm_array[i][2]\n",
    "            pt_heading_rotated = pt_utm_heading - ego_heading_utm\n",
    "            pt_bev_array.append([pt_x_rotated, pt_y_rotated, pt_heading_rotated])\n",
    "        else:\n",
    "            pt_bev_array.append([pt_x_rotated, pt_y_rotated])\n",
    "\n",
    "    pt_bev_array = np.asarray(pt_bev_array)\n",
    "    return pt_bev_array"
   ]
  },
  {
   "cell_type": "code",
   "execution_count": 45,
   "id": "9d395bdd",
   "metadata": {},
   "outputs": [],
   "source": [
    "num_objs = 10\n",
    "\n",
    "ego_bev = np.array([0, 0, 0])\n",
    "objects_bev = utm_to_bev(objs_pose[0:num_objs,[0,1,2]], *ego_pose[0:3])\n",
    "objects_v_bev = utm_to_bev(objs_pose[0:num_objs,[3, 4]], *ego_pose[0:3])\n",
    "\n",
    "objects_v_bev = np.array([\n",
    "    rotate_vec_2d(obj_v, -ego_pose[2]) for obj_v in objs_pose[0:num_objs,[3, 4]]\n",
    "])\n",
    "look_ahead_pt_bev = utm_to_bev([look_ahead_pt[:-1]], *ego_pose[0:3])"
   ]
  },
  {
   "cell_type": "code",
   "execution_count": 46,
   "id": "2db4183c",
   "metadata": {},
   "outputs": [
    {
     "data": {
      "text/plain": [
       "array([[ 6.65397513e+00,  3.17534883e+01, -2.98963835e-02],\n",
       "       [ 9.28609538e+00,  3.31954879e+01,  3.51395657e+00],\n",
       "       [-3.77847978e+01,  1.37405303e+01,  4.27183606e+00],\n",
       "       [-4.19187477e+01,  4.19304533e+00,  4.32025341e+00],\n",
       "       [ 1.87230714e+01,  3.90106279e+01,  3.95131408e+00],\n",
       "       [-2.46770127e+01,  3.83280418e+01,  4.34591683e+00],\n",
       "       [-4.57775106e+01,  3.13958087e+00,  4.33674379e+00],\n",
       "       [-5.23896288e+01,  1.06575006e+01,  1.27319113e+00],\n",
       "       [ 2.36693168e+01,  6.19779675e+01,  5.18473222e+00],\n",
       "       [-6.58890881e+01, -1.31773976e+01,  2.72052932e-01]])"
      ]
     },
     "execution_count": 46,
     "metadata": {},
     "output_type": "execute_result"
    }
   ],
   "source": [
    "objects_bev"
   ]
  },
  {
   "cell_type": "code",
   "execution_count": 47,
   "id": "9856a97b",
   "metadata": {
    "scrolled": true
   },
   "outputs": [
    {
     "data": {
      "text/plain": [
       "array([[-6.98062386e-03, -2.78278449e-03],\n",
       "       [ 0.00000000e+00,  0.00000000e+00],\n",
       "       [ 0.00000000e+00,  0.00000000e+00],\n",
       "       [ 0.00000000e+00,  0.00000000e+00],\n",
       "       [ 0.00000000e+00,  0.00000000e+00],\n",
       "       [-3.57745644e+00, -9.37269423e+00],\n",
       "       [ 0.00000000e+00,  0.00000000e+00],\n",
       "       [ 1.88716136e+00,  5.53197263e+00],\n",
       "       [ 0.00000000e+00,  0.00000000e+00],\n",
       "       [ 0.00000000e+00,  0.00000000e+00]])"
      ]
     },
     "execution_count": 47,
     "metadata": {},
     "output_type": "execute_result"
    }
   ],
   "source": [
    "objects_v_bev"
   ]
  },
  {
   "cell_type": "code",
   "execution_count": 48,
   "id": "71804a8d",
   "metadata": {},
   "outputs": [
    {
     "data": {
      "text/plain": [
       "array([[25.90361123, -0.32154375]])"
      ]
     },
     "execution_count": 48,
     "metadata": {},
     "output_type": "execute_result"
    }
   ],
   "source": [
    "look_ahead_pt_bev"
   ]
  },
  {
   "cell_type": "code",
   "execution_count": 49,
   "id": "0f25e99e",
   "metadata": {},
   "outputs": [
    {
     "data": {
      "image/png": "[encoded data removed]",
      "text/plain": [
       "<Figure size 640x480 with 1 Axes>"
      ]
     },
     "metadata": {},
     "output_type": "display_data"
    }
   ],
   "source": [
    "plt.quiver(ego_bev[0], ego_bev[1], ego_pose[3], ego_pose[4], color='r')\n",
    "# plt.scatter(*objects_bev[:,:2], marker='x')\n",
    "plt.scatter(*look_ahead_pt_bev[0], marker='x')\n",
    "for idx in range(len(objects_bev)):\n",
    "    plt.quiver(objects_bev[idx][0], objects_bev[idx][1], objects_v_bev[idx][0], objects_v_bev[idx][1], color='b')\n",
    "    \n",
    "plt.show()"
   ]
  },
  {
   "cell_type": "code",
   "execution_count": 50,
   "id": "3865b3aa",
   "metadata": {},
   "outputs": [],
   "source": [
    "def rotate_vec_2d(\n",
    "    vec: np.ndarray,\n",
    "    radian: float,\n",
    ") -> np.ndarray:\n",
    "    \"\"\" Rotate a 2D vector clockwise.\n",
    "\n",
    "    Args:\n",
    "        vec (np.ndarray): Query 2d vector.\n",
    "        radian (float): Radian to rotate, in rad.\n",
    "\n",
    "    Returns:\n",
    "        np.ndarray: Result 2d vector.\n",
    "    \"\"\"\n",
    "\n",
    "    rotation_matrix = np.array([\n",
    "        [np.cos(radian), -np.sin(radian)],\n",
    "        [np.sin(radian), np.cos(radian)]\n",
    "    ])\n",
    "\n",
    "    return np.matmul(rotation_matrix, vec)"
   ]
  },
  {
   "cell_type": "code",
   "execution_count": 51,
   "id": "f41e5fb0",
   "metadata": {},
   "outputs": [],
   "source": [
    "query_vec = np.array([1,0])\n",
    "rotated_vec = rotate_vec_2d(query_vec, -np.pi/4)"
   ]
  },
  {
   "cell_type": "code",
   "execution_count": 52,
   "id": "36886cd9",
   "metadata": {
    "scrolled": false
   },
   "outputs": [
    {
     "data": {
      "image/png": "[encoded data removed]",
      "text/plain": [
       "<Figure size 640x480 with 1 Axes>"
      ]
     },
     "metadata": {},
     "output_type": "display_data"
    }
   ],
   "source": [
    "plt.scatter(*query_vec, color='r')\n",
    "plt.scatter(*rotate_vec_2d(query_vec, 6*np.pi/4), color='y')\n",
    "plt.scatter(*rotate_vec_2d(query_vec, np.pi/4), color='g')\n",
    "plt.scatter(*rotate_vec_2d(query_vec, -np.pi/4), color='b')\n",
    "plt.xlim(-1.5, 1.5)\n",
    "plt.ylim(-1.5, 1.5)\n",
    "plt.savefig('test.png', format='png')\n",
    "plt.show()"
   ]
  },
  {
   "cell_type": "code",
   "execution_count": 53,
   "id": "959b6177",
   "metadata": {},
   "outputs": [],
   "source": [
    "def calculate_distance(\n",
    "    query_point: np.ndarray,\n",
    "    reference_point: np.ndarray\n",
    ") -> float:\n",
    "    \"\"\" Calculate distance between two points of any dimension.\n",
    "\n",
    "    Args:\n",
    "        query_point (np.ndarray): The query point.\n",
    "        reference_point (np.ndarray): The reference point.\n",
    "\n",
    "    Returns:\n",
    "        float: distance\n",
    "    \"\"\"\n",
    "    return np.linalg.norm(query_point-reference_point)"
   ]
  },
  {
   "cell_type": "code",
   "execution_count": 54,
   "id": "e9d07772",
   "metadata": {},
   "outputs": [
    {
     "data": {
      "text/plain": [
       "(11, 8)"
      ]
     },
     "execution_count": 54,
     "metadata": {},
     "output_type": "execute_result"
    }
   ],
   "source": [
    "observation[0].shape"
   ]
  },
  {
   "cell_type": "code",
   "execution_count": 55,
   "id": "2ce1eafb",
   "metadata": {},
   "outputs": [
    {
     "data": {
      "text/plain": [
       "array([ True,  True,  True,  True,  True,  True,  True,  True,  True,\n",
       "        True,  True])"
      ]
     },
     "execution_count": 55,
     "metadata": {},
     "output_type": "execute_result"
    }
   ],
   "source": [
    "selections = observation[0][:, -1].astype(bool)\n",
    "selections"
   ]
  },
  {
   "cell_type": "code",
   "execution_count": 56,
   "id": "79ac2f0e",
   "metadata": {
    "scrolled": true
   },
   "outputs": [
    {
     "data": {
      "text/plain": [
       "(11, 8)"
      ]
     },
     "execution_count": 56,
     "metadata": {},
     "output_type": "execute_result"
    }
   ],
   "source": [
    "observation_filtered = observation[0][selections, :]\n",
    "observation_filtered.shape"
   ]
  },
  {
   "cell_type": "code",
   "execution_count": 57,
   "id": "b32e64b8",
   "metadata": {},
   "outputs": [
    {
     "data": {
      "text/plain": [
       "array([[ 3.65016063e+05,  1.43861145e+05, -2.21501873e+00,\n",
       "         6.67514409e+00, -2.54890318e-02,  5.70150500e-01,\n",
       "         7.75198839e-02,  1.00000000e+00],\n",
       "       [ 3.65037456e+05,  1.43836754e+05, -2.24491512e+00,\n",
       "         1.96737861e-03,  7.25275260e-03,  0.00000000e+00,\n",
       "         0.00000000e+00,  1.00000000e+00],\n",
       "       [ 3.65037028e+05,  1.43833783e+05,  1.29893784e+00,\n",
       "         0.00000000e+00,  0.00000000e+00,  0.00000000e+00,\n",
       "         0.00000000e+00,  1.00000000e+00],\n",
       "       [ 3.65049742e+05,  1.43883104e+05,  2.05681733e+00,\n",
       "         0.00000000e+00,  0.00000000e+00,  0.00000000e+00,\n",
       "         0.00000000e+00,  1.00000000e+00],\n",
       "       [ 3.65044591e+05,  1.43892143e+05,  2.10523468e+00,\n",
       "         0.00000000e+00,  0.00000000e+00,  0.00000000e+00,\n",
       "         0.00000000e+00,  1.00000000e+00],\n",
       "       [ 3.65036010e+05,  1.43822745e+05,  1.73629535e+00,\n",
       "         0.00000000e+00,  0.00000000e+00,  0.00000000e+00,\n",
       "         0.00000000e+00,  1.00000000e+00],\n",
       "       [ 3.65061529e+05,  1.43857857e+05,  2.13089810e+00,\n",
       "        -5.34555951e+00,  8.48943963e+00, -5.77160727e-07,\n",
       "        -7.66450262e-07,  1.00000000e+00],\n",
       "       [ 3.65046066e+05,  1.43895861e+05,  2.12172506e+00,\n",
       "         0.00000000e+00,  0.00000000e+00,  0.00000000e+00,\n",
       "         0.00000000e+00,  1.00000000e+00],\n",
       "       [ 3.65056048e+05,  1.43896633e+05, -9.41827597e-01,\n",
       "         3.28979735e+00, -4.83128684e+00, -4.50583758e-07,\n",
       "        -7.21501298e-07,  1.00000000e+00],\n",
       "       [ 3.65051403e+05,  1.43804997e+05,  2.96971349e+00,\n",
       "         0.00000000e+00,  0.00000000e+00,  0.00000000e+00,\n",
       "         0.00000000e+00,  1.00000000e+00],\n",
       "       [ 3.65045098e+05,  1.43921741e+05, -1.94296580e+00,\n",
       "         0.00000000e+00,  0.00000000e+00,  0.00000000e+00,\n",
       "         0.00000000e+00,  1.00000000e+00]])"
      ]
     },
     "execution_count": 57,
     "metadata": {},
     "output_type": "execute_result"
    }
   ],
   "source": [
    "observation[0]"
   ]
  },
  {
   "cell_type": "code",
   "execution_count": 58,
   "id": "be61ee6e",
   "metadata": {},
   "outputs": [
    {
     "data": {
      "text/plain": [
       "array([32.44317191, 34.46987069, 40.20563541, 42.12793651, 43.27103522,\n",
       "       45.58501666, 45.88504595, 53.46265543, 66.34383934, 67.19386685])"
      ]
     },
     "execution_count": 58,
     "metadata": {},
     "output_type": "execute_result"
    }
   ],
   "source": [
    "distance = np.array([calculate_distance(obj_loc, observation[0][0,0:2]) for obj_loc in observation[0][1:, 0:2]])\n",
    "distance"
   ]
  },
  {
   "cell_type": "code",
   "execution_count": 59,
   "id": "2c461e9f",
   "metadata": {},
   "outputs": [
    {
     "data": {
      "text/plain": [
       "array([ True,  True,  True,  True,  True,  True,  True,  True,  True,\n",
       "        True])"
      ]
     },
     "execution_count": 59,
     "metadata": {},
     "output_type": "execute_result"
    }
   ],
   "source": [
    "near_selections = distance <= 100\n",
    "near_selections"
   ]
  },
  {
   "cell_type": "code",
   "execution_count": 60,
   "id": "54ed7492",
   "metadata": {},
   "outputs": [],
   "source": [
    "def shuffle_objects(observation: np.ndarray) -> np.ndarray:\n",
    "    return np.random.shuffle(observation[1:, :])"
   ]
  },
  {
   "cell_type": "code",
   "execution_count": 61,
   "id": "2ae8ff55",
   "metadata": {},
   "outputs": [
    {
     "data": {
      "text/plain": [
       "array([[ 3.65016063e+05,  1.43861145e+05, -2.21501873e+00,\n",
       "         6.67514409e+00, -2.54890318e-02,  5.70150500e-01,\n",
       "         7.75198839e-02,  1.00000000e+00],\n",
       "       [ 3.65037456e+05,  1.43836754e+05, -2.24491512e+00,\n",
       "         1.96737861e-03,  7.25275260e-03,  0.00000000e+00,\n",
       "         0.00000000e+00,  1.00000000e+00],\n",
       "       [ 3.65037028e+05,  1.43833783e+05,  1.29893784e+00,\n",
       "         0.00000000e+00,  0.00000000e+00,  0.00000000e+00,\n",
       "         0.00000000e+00,  1.00000000e+00],\n",
       "       [ 3.65049742e+05,  1.43883104e+05,  2.05681733e+00,\n",
       "         0.00000000e+00,  0.00000000e+00,  0.00000000e+00,\n",
       "         0.00000000e+00,  1.00000000e+00],\n",
       "       [ 3.65044591e+05,  1.43892143e+05,  2.10523468e+00,\n",
       "         0.00000000e+00,  0.00000000e+00,  0.00000000e+00,\n",
       "         0.00000000e+00,  1.00000000e+00],\n",
       "       [ 3.65036010e+05,  1.43822745e+05,  1.73629535e+00,\n",
       "         0.00000000e+00,  0.00000000e+00,  0.00000000e+00,\n",
       "         0.00000000e+00,  1.00000000e+00],\n",
       "       [ 3.65061529e+05,  1.43857857e+05,  2.13089810e+00,\n",
       "        -5.34555951e+00,  8.48943963e+00, -5.77160727e-07,\n",
       "        -7.66450262e-07,  1.00000000e+00],\n",
       "       [ 3.65046066e+05,  1.43895861e+05,  2.12172506e+00,\n",
       "         0.00000000e+00,  0.00000000e+00,  0.00000000e+00,\n",
       "         0.00000000e+00,  1.00000000e+00],\n",
       "       [ 3.65056048e+05,  1.43896633e+05, -9.41827597e-01,\n",
       "         3.28979735e+00, -4.83128684e+00, -4.50583758e-07,\n",
       "        -7.21501298e-07,  1.00000000e+00],\n",
       "       [ 3.65051403e+05,  1.43804997e+05,  2.96971349e+00,\n",
       "         0.00000000e+00,  0.00000000e+00,  0.00000000e+00,\n",
       "         0.00000000e+00,  1.00000000e+00],\n",
       "       [ 3.65045098e+05,  1.43921741e+05, -1.94296580e+00,\n",
       "         0.00000000e+00,  0.00000000e+00,  0.00000000e+00,\n",
       "         0.00000000e+00,  1.00000000e+00]])"
      ]
     },
     "execution_count": 61,
     "metadata": {},
     "output_type": "execute_result"
    }
   ],
   "source": [
    "observation[0]"
   ]
  },
  {
   "cell_type": "code",
   "execution_count": 62,
   "id": "bb9e39c0",
   "metadata": {},
   "outputs": [],
   "source": [
    "shuffle_objects(observation[0])"
   ]
  },
  {
   "cell_type": "code",
   "execution_count": 63,
   "id": "6c1db5ee",
   "metadata": {
    "scrolled": true
   },
   "outputs": [
    {
     "data": {
      "text/plain": [
       "array([[ 3.65016063e+05,  1.43861145e+05, -2.21501873e+00,\n",
       "         6.67514409e+00, -2.54890318e-02,  5.70150500e-01,\n",
       "         7.75198839e-02,  1.00000000e+00],\n",
       "       [ 3.65061529e+05,  1.43857857e+05,  2.13089810e+00,\n",
       "        -5.34555951e+00,  8.48943963e+00, -5.77160727e-07,\n",
       "        -7.66450262e-07,  1.00000000e+00],\n",
       "       [ 3.65049742e+05,  1.43883104e+05,  2.05681733e+00,\n",
       "         0.00000000e+00,  0.00000000e+00,  0.00000000e+00,\n",
       "         0.00000000e+00,  1.00000000e+00],\n",
       "       [ 3.65045098e+05,  1.43921741e+05, -1.94296580e+00,\n",
       "         0.00000000e+00,  0.00000000e+00,  0.00000000e+00,\n",
       "         0.00000000e+00,  1.00000000e+00],\n",
       "       [ 3.65037028e+05,  1.43833783e+05,  1.29893784e+00,\n",
       "         0.00000000e+00,  0.00000000e+00,  0.00000000e+00,\n",
       "         0.00000000e+00,  1.00000000e+00],\n",
       "       [ 3.65044591e+05,  1.43892143e+05,  2.10523468e+00,\n",
       "         0.00000000e+00,  0.00000000e+00,  0.00000000e+00,\n",
       "         0.00000000e+00,  1.00000000e+00],\n",
       "       [ 3.65036010e+05,  1.43822745e+05,  1.73629535e+00,\n",
       "         0.00000000e+00,  0.00000000e+00,  0.00000000e+00,\n",
       "         0.00000000e+00,  1.00000000e+00],\n",
       "       [ 3.65046066e+05,  1.43895861e+05,  2.12172506e+00,\n",
       "         0.00000000e+00,  0.00000000e+00,  0.00000000e+00,\n",
       "         0.00000000e+00,  1.00000000e+00],\n",
       "       [ 3.65056048e+05,  1.43896633e+05, -9.41827597e-01,\n",
       "         3.28979735e+00, -4.83128684e+00, -4.50583758e-07,\n",
       "        -7.21501298e-07,  1.00000000e+00],\n",
       "       [ 3.65051403e+05,  1.43804997e+05,  2.96971349e+00,\n",
       "         0.00000000e+00,  0.00000000e+00,  0.00000000e+00,\n",
       "         0.00000000e+00,  1.00000000e+00],\n",
       "       [ 3.65037456e+05,  1.43836754e+05, -2.24491512e+00,\n",
       "         1.96737861e-03,  7.25275260e-03,  0.00000000e+00,\n",
       "         0.00000000e+00,  1.00000000e+00]])"
      ]
     },
     "execution_count": 63,
     "metadata": {},
     "output_type": "execute_result"
    }
   ],
   "source": [
    "observation[0]"
   ]
  },
  {
   "cell_type": "code",
   "execution_count": null,
   "id": "3a02e048",
   "metadata": {},
   "outputs": [],
   "source": []
  }
 ],
 "metadata": {
  "kernelspec": {
   "display_name": "Python [conda env:nuplan] *",
   "language": "python",
   "name": "conda-env-nuplan-py"
  },
  "language_info": {
   "codemirror_mode": {
    "name": "ipython",
    "version": 3
   },
   "file_extension": ".py",
   "mimetype": "text/x-python",
   "name": "python",
   "nbconvert_exporter": "python",
   "pygments_lexer": "ipython3",
   "version": "3.9.16"
  }
 },
 "nbformat": 4,
 "nbformat_minor": 5
}
