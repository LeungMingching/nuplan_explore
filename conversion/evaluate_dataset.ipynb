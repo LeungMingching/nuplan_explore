{
 "cells": [
  {
   "cell_type": "code",
   "execution_count": 10,
   "id": "31afeb66",
   "metadata": {},
   "outputs": [],
   "source": [
    "import os\n",
    "import random\n",
    "from glob import glob\n",
    "import numpy as np\n",
    "import matplotlib.pyplot as plt"
   ]
  },
  {
   "cell_type": "code",
   "execution_count": 28,
   "id": "f2a08b27",
   "metadata": {},
   "outputs": [],
   "source": [
    "dataset_root = 'converted_dataset_remove_mini_with_map/'\n",
    "scenario_type = 'recorded_data'\n",
    "start_timestamp = '1681439133'"
   ]
  },
  {
   "cell_type": "markdown",
   "id": "c2e75853",
   "metadata": {},
   "source": [
    "# Loading"
   ]
  },
  {
   "cell_type": "markdown",
   "id": "756031b0",
   "metadata": {},
   "source": [
    "find all files"
   ]
  },
  {
   "cell_type": "code",
   "execution_count": 29,
   "id": "61fc852e",
   "metadata": {},
   "outputs": [],
   "source": [
    "# reference line\n",
    "rl_file_list = glob(os.path.join(dataset_root, scenario_type, '*ref_line*.npy'))\n",
    "rl_file_list.sort()\n",
    "\n",
    "# observation for agents\n",
    "obs_file_list = glob(os.path.join(dataset_root, scenario_type, '*observation*.npy'))\n",
    "obs_file_list.sort()\n",
    "\n",
    "# look ahead points\n",
    "lap_file_list = glob(os.path.join(dataset_root, scenario_type, '*look_ahead_pt*.npy'))\n",
    "lap_file_list.sort()"
   ]
  },
  {
   "cell_type": "markdown",
   "id": "654c575f",
   "metadata": {},
   "source": [
    "load .npy"
   ]
  },
  {
   "cell_type": "code",
   "execution_count": 30,
   "id": "e2f8fcb2",
   "metadata": {
    "scrolled": true
   },
   "outputs": [
    {
     "name": "stdout",
     "output_type": "stream",
     "text": [
      "ref_line shape: (27, 3, 200, 4)\n",
      "observation shape: (27, 11, 8)\n",
      "look_ahead_pt_array shape: (27, 3)\n"
     ]
    }
   ],
   "source": [
    "# load a map file\n",
    "with open(dataset_root + scenario_type + f'/{start_timestamp}_ref_line.npy', 'rb') as f:\n",
    "    ref_lines_all = np.load(f, allow_pickle=True)\n",
    "print(f'ref_line shape: {ref_lines_all.shape}')\n",
    "\n",
    "# load an observation file\n",
    "with open(dataset_root + scenario_type + f'/{start_timestamp}_observation.npy', 'rb') as f:\n",
    "    observation = np.load(f, allow_pickle=True)\n",
    "print(f'observation shape: {observation.shape}')\n",
    "\n",
    "# load ouput file\n",
    "with open(dataset_root + scenario_type + f'/{start_timestamp}_look_ahead_pt.npy', 'rb') as f:\n",
    "    look_ahead_pt_array = np.load(f, allow_pickle=True)   \n",
    "print(f'look_ahead_pt_array shape: {look_ahead_pt_array.shape}')"
   ]
  },
  {
   "cell_type": "markdown",
   "id": "84e6afec",
   "metadata": {},
   "source": [
    "# visualize"
   ]
  },
  {
   "cell_type": "code",
   "execution_count": 31,
   "id": "d1170adb",
   "metadata": {},
   "outputs": [],
   "source": [
    "# idx= random.choice(range(len(observation)))\n",
    "idx = 8\n",
    "frame = observation[idx]\n",
    "look_ahead_pt = look_ahead_pt_array[-1]"
   ]
  },
  {
   "cell_type": "code",
   "execution_count": 32,
   "id": "d04e114f",
   "metadata": {
    "scrolled": true
   },
   "outputs": [
    {
     "name": "stdout",
     "output_type": "stream",
     "text": [
      "ego_pose: \n",
      "[ 0.          0.          0.         11.05392945  0.          1.0816927\n",
      "  0.02788355  1.        ]\n",
      "\n",
      "objs_pose: \n",
      "[[1.27270818 0.         1.06504369 0.         0.         0.\n",
      "  0.         1.        ]\n",
      " [0.         0.         1.24342716 0.46046382 0.9084996  2.89921451\n",
      "  5.71554136 1.        ]\n",
      " [0.         0.         1.16473556 0.         0.         0.\n",
      "  0.         1.        ]\n",
      " [5.02195263 0.         1.06449497 0.         0.         0.\n",
      "  0.         1.        ]\n",
      " [0.         0.         0.         0.         0.         0.\n",
      "  0.         0.        ]\n",
      " [0.         0.         0.         0.         0.         0.\n",
      "  0.         0.        ]\n",
      " [0.         0.         0.         0.         0.         0.\n",
      "  0.         0.        ]\n",
      " [0.         0.         0.         0.         0.         0.\n",
      "  0.         0.        ]\n",
      " [0.         0.         0.         0.         0.         0.\n",
      "  0.         0.        ]\n",
      " [0.         0.         0.         0.         0.         0.\n",
      "  0.         0.        ]]\n",
      "\n",
      "look_ahead_pt: \n",
      "[8.514108   0.02836094 0.        ]\n",
      "\n",
      "ref_line: \n",
      "[[[ 0.          3.79923725  0.40129495  3.80325723]\n",
      "  [ 0.40129495  3.80325723  0.80258989  3.80719733]\n",
      "  [ 0.80258989  3.80719733  1.20388484  3.81105781]\n",
      "  ...\n",
      "  [39.3269043   3.81364655 39.72819901  3.80984092]\n",
      "  [39.3269043   3.81364655 39.72819901  3.80984092]\n",
      "  [39.3269043   3.81364655 39.72819901  3.80984092]]\n",
      "\n",
      " [[ 0.          0.          0.40127751  0.        ]\n",
      "  [ 0.40127751  0.          0.80255502  0.        ]\n",
      "  [ 0.80255502  0.          1.20383251  0.        ]\n",
      "  ...\n",
      "  [39.32519531  0.07957792 39.72647476  0.07687832]\n",
      "  [39.32519531  0.07957792 39.72647476  0.07687832]\n",
      "  [39.32519531  0.07957792 39.72647476  0.07687832]]\n",
      "\n",
      " [[ 0.          0.          0.          0.        ]\n",
      "  [ 0.          0.          0.          0.        ]\n",
      "  [ 0.          0.          0.          0.        ]\n",
      "  ...\n",
      "  [ 0.          0.          0.          0.        ]\n",
      "  [ 0.          0.          0.          0.        ]\n",
      "  [ 0.          0.          0.          0.        ]]]\n",
      "\n"
     ]
    }
   ],
   "source": [
    "ego_pose = frame[0]\n",
    "objs_pose = frame[1:]\n",
    "ref_lines = ref_lines_all[0]\n",
    "\n",
    "print(f'ego_pose: \\n{ego_pose}\\n')\n",
    "print(f'objs_pose: \\n{objs_pose}\\n')\n",
    "print(f'look_ahead_pt: \\n{look_ahead_pt}\\n')\n",
    "print(f'ref_line: \\n{ref_lines}\\n')"
   ]
  },
  {
   "cell_type": "code",
   "execution_count": 33,
   "id": "b67e5964",
   "metadata": {},
   "outputs": [
    {
     "data": {
      "image/png": "[encoded data removed]",
      "text/plain": [
       "<Figure size 640x480 with 1 Axes>"
      ]
     },
     "metadata": {},
     "output_type": "display_data"
    }
   ],
   "source": [
    "plt.scatter(*ego_pose[0:2], marker='D', color='r')\n",
    "plt.quiver(*ego_pose[0:2], *ego_pose[3:5], color='r')\n",
    "\n",
    "for obj in objs_pose:\n",
    "    if obj[-1] != 0:\n",
    "        plt.scatter(*obj[0:2], marker='D', color='b')\n",
    "        plt.quiver(*obj[0:2], *obj[3:5], color='b')\n",
    "for line in ref_lines:\n",
    "    if line.any():\n",
    "        rl_x = line[:,0]\n",
    "        rl_y = line[:,1]\n",
    "        plt.plot(rl_x, rl_y, color='g')\n",
    "\n",
    "plt.scatter(*look_ahead_pt[0:2], marker='x')\n",
    "    \n",
    "plt.show()"
   ]
  },
  {
   "cell_type": "markdown",
   "id": "bc3fada6",
   "metadata": {},
   "source": [
    "## utm to bev"
   ]
  },
  {
   "cell_type": "code",
   "execution_count": 17,
   "id": "507219d3",
   "metadata": {},
   "outputs": [],
   "source": [
    "import numpy as np\n",
    "\n",
    "def utm_to_bev(\n",
    "        pt_utm_array: np.ndarray,\n",
    "        ego_x_utm: float,\n",
    "        ego_y_utm: float,\n",
    "        ego_heading_utm: float\n",
    "    ) -> np.ndarray:\n",
    "    \"\"\"Transform list of UTM points to BEV coordinate.\n",
    "\n",
    "    Args:\n",
    "        pt_utm_array (np.ndarray): List of UTM points. [[x, y, heading(Optional)]]\n",
    "        ego_x_utm (float): Ego car x w.r.t. UTM\n",
    "        ego_y_utm (float): Ego car y w.r.t. UTM\n",
    "        ego_heading_utm (float): Ego car heading w.r.t. UTM\n",
    "\n",
    "    Returns:\n",
    "        np.ndarray: List of BEV points\n",
    "    \"\"\"\n",
    "    \n",
    "    def is_heading_provided() -> bool:\n",
    "        return len(pt_utm_array[0]) > 2\n",
    "\n",
    "    pt_bev_array = []\n",
    "    for i in range(len(pt_utm_array)):\n",
    "        pt_utm_x = pt_utm_array[i][0]\n",
    "        pt_utm_y = pt_utm_array[i][1]\n",
    "\n",
    "        pt_x_shifted = pt_utm_x - ego_x_utm\n",
    "        pt_y_shifted = pt_utm_y - ego_y_utm\n",
    "\n",
    "        pt_x_rotated = pt_x_shifted * np.cos(ego_heading_utm) \\\n",
    "                        + pt_y_shifted * np.sin(ego_heading_utm)\n",
    "        pt_y_rotated = - pt_x_shifted * np.sin(ego_heading_utm) \\\n",
    "                        + pt_y_shifted * np.cos(ego_heading_utm)\n",
    "        \n",
    "        if is_heading_provided():\n",
    "            pt_utm_heading = pt_utm_array[i][2]\n",
    "            pt_heading_rotated = pt_utm_heading - ego_heading_utm\n",
    "            pt_bev_array.append([pt_x_rotated, pt_y_rotated, pt_heading_rotated])\n",
    "        else:\n",
    "            pt_bev_array.append([pt_x_rotated, pt_y_rotated])\n",
    "\n",
    "    pt_bev_array = np.asarray(pt_bev_array)\n",
    "    return pt_bev_array"
   ]
  },
  {
   "cell_type": "code",
   "execution_count": null,
   "id": "307df8aa",
   "metadata": {},
   "outputs": [],
   "source": [
    "def rotate_vec_2d(\n",
    "    vec: np.ndarray,\n",
    "    radian: float,\n",
    ") -> np.ndarray:\n",
    "    \"\"\" Rotate a 2D vector clockwise.\n",
    "\n",
    "    Args:\n",
    "        vec (np.ndarray): Query 2d vector.\n",
    "        radian (float): Radian to rotate, in rad.\n",
    "\n",
    "    Returns:\n",
    "        np.ndarray: Result 2d vector.\n",
    "    \"\"\"\n",
    "\n",
    "    rotation_matrix = np.array([\n",
    "        [np.cos(radian), -np.sin(radian)],\n",
    "        [np.sin(radian), np.cos(radian)]\n",
    "    ])\n",
    "\n",
    "    return np.matmul(rotation_matrix, vec)"
   ]
  },
  {
   "cell_type": "code",
   "execution_count": null,
   "id": "9d395bdd",
   "metadata": {},
   "outputs": [],
   "source": [
    "num_objs = 3\n",
    "\n",
    "ego_bev = np.array([0, 0, 0])\n",
    "objects_bev = objs_pose[0:num_objs,[0,1,2]]\n",
    "objects_v_bev = objs_pose[0:num_objs,[3, 4]]\n",
    "# objects_bev = utm_to_bev(objs_pose[0:num_objs,[0,1,2]], *ego_pose[0:3])\n",
    "# objects_v_bev = utm_to_bev(objs_pose[0:num_objs,[3, 4]], *ego_pose[0:3])\n",
    "\n",
    "# objects_v_bev = np.array([\n",
    "#     rotate_vec_2d(obj_v, -ego_pose[2]) for obj_v in objs_pose[0:num_objs,[3, 4]]\n",
    "# ])\n",
    "look_ahead_pt_bev = [look_ahead_pt[:-1]], *ego_pose[0:3]\n",
    "# look_ahead_pt_bev = utm_to_bev([look_ahead_pt[:-1]], *ego_pose[0:3])"
   ]
  },
  {
   "cell_type": "code",
   "execution_count": null,
   "id": "0f25e99e",
   "metadata": {},
   "outputs": [],
   "source": [
    "plt.quiver(ego_bev[0], ego_bev[1], ego_pose[3], ego_pose[4], color='r')\n",
    "plt.scatter(*look_ahead_pt_bev[0], marker='x')\n",
    "for idx in range(len(objects_bev)):\n",
    "    plt.quiver(objects_bev[idx][0], objects_bev[idx][1], objects_v_bev[idx][0], objects_v_bev[idx][1], color='b')\n",
    "for line in ref_lines:\n",
    "    rl_x = line[:,0]\n",
    "    rl_y = line[:,1]\n",
    "    plt.plot(rl_x, rl_y, color='g')\n",
    "    \n",
    "plt.show()"
   ]
  },
  {
   "cell_type": "code",
   "execution_count": null,
   "id": "3865b3aa",
   "metadata": {},
   "outputs": [],
   "source": [
    "def rotate_vec_2d(\n",
    "    vec: np.ndarray,\n",
    "    radian: float,\n",
    ") -> np.ndarray:\n",
    "    \"\"\" Rotate a 2D vector clockwise.\n",
    "\n",
    "    Args:\n",
    "        vec (np.ndarray): Query 2d vector.\n",
    "        radian (float): Radian to rotate, in rad.\n",
    "\n",
    "    Returns:\n",
    "        np.ndarray: Result 2d vector.\n",
    "    \"\"\"\n",
    "\n",
    "    rotation_matrix = np.array([\n",
    "        [np.cos(radian), -np.sin(radian)],\n",
    "        [np.sin(radian), np.cos(radian)]\n",
    "    ])\n",
    "\n",
    "    return np.matmul(rotation_matrix, vec)"
   ]
  },
  {
   "cell_type": "code",
   "execution_count": null,
   "id": "f41e5fb0",
   "metadata": {},
   "outputs": [],
   "source": [
    "query_vec = np.array([1,0])\n",
    "rotated_vec = rotate_vec_2d(query_vec, -np.pi/4)"
   ]
  },
  {
   "cell_type": "code",
   "execution_count": null,
   "id": "36886cd9",
   "metadata": {
    "scrolled": false
   },
   "outputs": [],
   "source": [
    "plt.scatter(*query_vec, color='r')\n",
    "plt.scatter(*rotate_vec_2d(query_vec, 6*np.pi/4), color='y')\n",
    "plt.scatter(*rotate_vec_2d(query_vec, np.pi/4), color='g')\n",
    "plt.scatter(*rotate_vec_2d(query_vec, -np.pi/4), color='b')\n",
    "plt.xlim(-1.5, 1.5)\n",
    "plt.ylim(-1.5, 1.5)\n",
    "plt.savefig('test.png', format='png')\n",
    "plt.show()"
   ]
  },
  {
   "cell_type": "code",
   "execution_count": null,
   "id": "959b6177",
   "metadata": {},
   "outputs": [],
   "source": [
    "def calculate_distance(\n",
    "    query_point: np.ndarray,\n",
    "    reference_point: np.ndarray\n",
    ") -> float:\n",
    "    \"\"\" Calculate distance between two points of any dimension.\n",
    "\n",
    "    Args:\n",
    "        query_point (np.ndarray): The query point.\n",
    "        reference_point (np.ndarray): The reference point.\n",
    "\n",
    "    Returns:\n",
    "        float: distance\n",
    "    \"\"\"\n",
    "    return np.linalg.norm(query_point-reference_point)"
   ]
  },
  {
   "cell_type": "code",
   "execution_count": null,
   "id": "e9d07772",
   "metadata": {},
   "outputs": [],
   "source": [
    "observation[0].shape"
   ]
  },
  {
   "cell_type": "code",
   "execution_count": null,
   "id": "2ce1eafb",
   "metadata": {},
   "outputs": [],
   "source": [
    "selections = observation[0][:, -1].astype(bool)\n",
    "selections"
   ]
  },
  {
   "cell_type": "code",
   "execution_count": null,
   "id": "79ac2f0e",
   "metadata": {
    "scrolled": true
   },
   "outputs": [],
   "source": [
    "observation_filtered = observation[0][selections, :]\n",
    "observation_filtered.shape"
   ]
  },
  {
   "cell_type": "code",
   "execution_count": null,
   "id": "b32e64b8",
   "metadata": {},
   "outputs": [],
   "source": [
    "observation[0]"
   ]
  },
  {
   "cell_type": "code",
   "execution_count": null,
   "id": "be61ee6e",
   "metadata": {},
   "outputs": [],
   "source": [
    "distance = np.array([calculate_distance(obj_loc, observation[0][0,0:2]) for obj_loc in observation[0][1:, 0:2]])\n",
    "distance"
   ]
  },
  {
   "cell_type": "code",
   "execution_count": null,
   "id": "2c461e9f",
   "metadata": {},
   "outputs": [],
   "source": [
    "near_selections = distance <= 100\n",
    "near_selections"
   ]
  },
  {
   "cell_type": "code",
   "execution_count": null,
   "id": "54ed7492",
   "metadata": {},
   "outputs": [],
   "source": [
    "def shuffle_objects(observation: np.ndarray) -> np.ndarray:\n",
    "    return np.random.shuffle(observation[1:, :])"
   ]
  },
  {
   "cell_type": "code",
   "execution_count": null,
   "id": "2ae8ff55",
   "metadata": {},
   "outputs": [],
   "source": [
    "observation[0]"
   ]
  },
  {
   "cell_type": "code",
   "execution_count": null,
   "id": "bb9e39c0",
   "metadata": {},
   "outputs": [],
   "source": [
    "shuffle_objects(observation[0])"
   ]
  },
  {
   "cell_type": "code",
   "execution_count": null,
   "id": "6c1db5ee",
   "metadata": {
    "scrolled": true
   },
   "outputs": [],
   "source": [
    "observation[0]"
   ]
  },
  {
   "cell_type": "code",
   "execution_count": null,
   "id": "3a02e048",
   "metadata": {},
   "outputs": [],
   "source": [
    "a = [0, 1, 2, 3, 4, 5, 6, 7]"
   ]
  },
  {
   "cell_type": "code",
   "execution_count": null,
   "id": "0719e003",
   "metadata": {},
   "outputs": [],
   "source": [
    "a[3:]"
   ]
  },
  {
   "cell_type": "code",
   "execution_count": null,
   "id": "0e6af24c",
   "metadata": {},
   "outputs": [],
   "source": []
  }
 ],
 "metadata": {
  "kernelspec": {
   "display_name": "Python 3 (ipykernel)",
   "language": "python",
   "name": "python3"
  },
  "language_info": {
   "codemirror_mode": {
    "name": "ipython",
    "version": 3
   },
   "file_extension": ".py",
   "mimetype": "text/x-python",
   "name": "python",
   "nbconvert_exporter": "python",
   "pygments_lexer": "ipython3",
   "version": "3.9.16"
  },
  "varInspector": {
   "cols": {
    "lenName": 16,
    "lenType": 16,
    "lenVar": 40
   },
   "kernels_config": {
    "python": {
     "delete_cmd_postfix": "",
     "delete_cmd_prefix": "del ",
     "library": "var_list.py",
     "varRefreshCmd": "print(var_dic_list())"
    },
    "r": {
     "delete_cmd_postfix": ") ",
     "delete_cmd_prefix": "rm(",
     "library": "var_list.r",
     "varRefreshCmd": "cat(var_dic_list()) "
    }
   },
   "types_to_exclude": [
    "module",
    "function",
    "builtin_function_or_method",
    "instance",
    "_Feature"
   ],
   "window_display": false
  }
 },
 "nbformat": 4,
 "nbformat_minor": 5
}
