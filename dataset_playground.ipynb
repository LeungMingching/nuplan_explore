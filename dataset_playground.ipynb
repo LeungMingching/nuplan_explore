{
 "cells": [
  {
   "cell_type": "markdown",
   "id": "cf1cd6e5",
   "metadata": {},
   "source": [
    "# Schema"
   ]
  },
  {
   "cell_type": "markdown",
   "id": "baf710fd",
   "metadata": {},
   "source": [
    "![](https://github.com/motional/nuplan-devkit/raw/master/docs/nuplan_schema.png)"
   ]
  },
  {
   "cell_type": "markdown",
   "id": "3ff8ff85",
   "metadata": {},
   "source": [
    "## set environment variables"
   ]
  },
  {
   "cell_type": "code",
   "execution_count": 50,
   "id": "0ff31508",
   "metadata": {},
   "outputs": [],
   "source": [
    "import os\n",
    "NUPLAN_DATA_ROOT = os.getenv('NUPLAN_DATA_ROOT', './nuplan')\n",
    "NUPLAN_MAPS_ROOT = os.getenv('NUPLAN_MAPS_ROOT', './nuplan/dataset/maps')\n",
    "NUPLAN_DB_FILES = os.getenv('NUPLAN_DB_FILES', './nuplan/dataset/nuplan-v1.1/mini')\n",
    "NUPLAN_MAP_VERSION = os.getenv('NUPLAN_MAP_VERSION', 'nuplan-maps-v1.0')"
   ]
  },
  {
   "cell_type": "markdown",
   "id": "b0292a99",
   "metadata": {},
   "source": [
    "# ORM Database API"
   ]
  },
  {
   "cell_type": "markdown",
   "id": "1f4fd9a7",
   "metadata": {},
   "source": [
    "## load data"
   ]
  },
  {
   "cell_type": "code",
   "execution_count": 2,
   "id": "1df86b5d",
   "metadata": {
    "scrolled": true
   },
   "outputs": [
    {
     "name": "stderr",
     "output_type": "stream",
     "text": [
      "                                                                                                                                                             \r"
     ]
    }
   ],
   "source": [
    "from nuplan.database.nuplan_db_orm.nuplandb_wrapper import NuPlanDBWrapper\n",
    "\n",
    "nuplandb_wrapper = NuPlanDBWrapper(\n",
    "    data_root=NUPLAN_DATA_ROOT,\n",
    "    map_root=NUPLAN_MAPS_ROOT,\n",
    "    db_files=NUPLAN_DB_FILES,\n",
    "    map_version=NUPLAN_MAP_VERSION,\n",
    ")"
   ]
  },
  {
   "cell_type": "markdown",
   "id": "5fe85b38",
   "metadata": {},
   "source": [
    "## query a database"
   ]
  },
  {
   "cell_type": "code",
   "execution_count": 65,
   "id": "54c6289e",
   "metadata": {},
   "outputs": [],
   "source": [
    "log_db_name = \"2021.05.12.22.00.38_veh-35_01008_01518\"\n",
    "log_db = nuplandb_wrapper.get_log_db(log_db_name)"
   ]
  },
  {
   "cell_type": "markdown",
   "id": "f17b64d7",
   "metadata": {},
   "source": [
    "Get all file name"
   ]
  },
  {
   "cell_type": "code",
   "execution_count": 63,
   "id": "858b05e9",
   "metadata": {
    "scrolled": true
   },
   "outputs": [
    {
     "data": {
      "text/plain": [
       "['2021.10.11.07.12.18_veh-50_00211_00304',\n",
       " '2021.08.17.17.17.01_veh-45_02314_02798',\n",
       " '2021.06.09.17.23.18_veh-38_00773_01140',\n",
       " '2021.10.11.02.57.41_veh-50_00352_00535',\n",
       " '2021.06.09.12.39.51_veh-26_05620_06003',\n",
       " '2021.08.17.18.54.02_veh-45_00665_01065',\n",
       " '2021.06.14.18.33.41_veh-35_03901_04264',\n",
       " '2021.05.12.23.36.44_veh-35_02035_02387',\n",
       " '2021.08.24.13.12.55_veh-45_00386_00472',\n",
       " '2021.10.11.08.31.07_veh-50_01750_01948',\n",
       " '2021.07.24.23.50.16_veh-17_01696_02071',\n",
       " '2021.10.01.19.16.42_veh-28_03307_03808',\n",
       " '2021.10.05.07.10.04_veh-52_01442_01802',\n",
       " '2021.07.16.20.45.29_veh-35_00600_01084',\n",
       " '2021.07.16.20.45.29_veh-35_01095_01486',\n",
       " '2021.10.06.07.26.10_veh-52_00006_00398',\n",
       " '2021.07.24.20.37.45_veh-17_00015_00375',\n",
       " '2021.06.08.12.54.54_veh-26_04262_04732',\n",
       " '2021.06.08.16.31.33_veh-38_01589_02072',\n",
       " '2021.07.16.18.06.21_veh-38_03231_03712',\n",
       " '2021.09.16.15.12.03_veh-42_01037_01434',\n",
       " '2021.06.23.20.43.31_veh-16_03607_04007',\n",
       " '2021.05.12.22.28.35_veh-35_00620_01164',\n",
       " '2021.06.23.17.31.36_veh-16_00016_00377',\n",
       " '2021.06.23.15.56.12_veh-16_00839_01285',\n",
       " '2021.08.09.17.55.59_veh-28_00021_00307',\n",
       " '2021.06.09.17.37.09_veh-12_00404_00864',\n",
       " '2021.07.16.18.19.22_veh-35_00440_00858',\n",
       " '2021.06.14.16.48.02_veh-12_04057_04438',\n",
       " '2021.10.01.19.16.42_veh-28_02011_02410',\n",
       " '2021.07.16.00.51.05_veh-17_01352_01901',\n",
       " '2021.05.25.14.16.10_veh-35_01690_02183',\n",
       " '2021.06.07.12.54.00_veh-35_01843_02314',\n",
       " '2021.06.14.19.22.11_veh-38_01480_01860',\n",
       " '2021.10.11.02.57.41_veh-50_01522_02088',\n",
       " '2021.06.08.14.35.24_veh-26_02555_03004',\n",
       " '2021.06.14.16.32.09_veh-35_05038_05402',\n",
       " '2021.06.28.16.29.11_veh-38_03263_03766',\n",
       " '2021.07.09.17.06.37_veh-35_00258_00748',\n",
       " '2021.06.28.15.02.02_veh-38_02398_02848',\n",
       " '2021.06.09.17.23.18_veh-38_02526_03027',\n",
       " '2021.06.09.11.54.15_veh-12_04366_04810',\n",
       " '2021.06.14.17.26.26_veh-38_04544_04920',\n",
       " '2021.05.12.22.00.38_veh-35_01008_01518',\n",
       " '2021.06.28.16.57.59_veh-26_00016_00484',\n",
       " '2021.06.14.18.42.45_veh-12_03445_03902',\n",
       " '2021.06.28.16.29.11_veh-38_01415_01821',\n",
       " '2021.07.09.20.59.12_veh-38_01208_01692',\n",
       " '2021.08.17.16.57.11_veh-08_01200_01636',\n",
       " '2021.05.12.23.36.44_veh-35_01133_01535',\n",
       " '2021.06.03.13.55.17_veh-35_00073_00426',\n",
       " '2021.06.23.16.54.19_veh-35_00808_01256',\n",
       " '2021.06.03.12.02.06_veh-35_00233_00609',\n",
       " '2021.06.14.16.48.02_veh-12_04978_05337',\n",
       " '2021.07.16.18.06.21_veh-38_04933_05307',\n",
       " '2021.06.07.18.53.26_veh-26_00005_00427',\n",
       " '2021.08.30.14.54.34_veh-40_00439_00835',\n",
       " '2021.10.06.17.43.07_veh-28_00508_00877',\n",
       " '2021.06.09.12.39.51_veh-26_01943_02303',\n",
       " '2021.06.09.14.58.55_veh-35_01095_01484',\n",
       " '2021.05.12.23.36.44_veh-35_00152_00504',\n",
       " '2021.06.09.14.03.17_veh-12_02584_02970',\n",
       " '2021.07.16.18.06.21_veh-38_04471_04922',\n",
       " '2021.06.09.14.58.55_veh-35_01894_02311']"
      ]
     },
     "execution_count": 63,
     "metadata": {},
     "output_type": "execute_result"
    }
   ],
   "source": [
    "from os import listdir\n",
    "from os.path import isfile, join\n",
    "file_names_with_extension = [f for f in listdir(NUPLAN_DB_FILES) if isfile(join(NUPLAN_DB_FILES, f))]\n",
    "\n",
    "file_names = [name[:-3] for name in onlyfiles]\n",
    "file_names"
   ]
  },
  {
   "cell_type": "markdown",
   "id": "c76767a4",
   "metadata": {},
   "source": [
    "## acess data"
   ]
  },
  {
   "cell_type": "code",
   "execution_count": 10,
   "id": "62fd5607",
   "metadata": {},
   "outputs": [
    {
     "data": {
      "text/plain": [
       "13812"
      ]
     },
     "execution_count": 10,
     "metadata": {},
     "output_type": "execute_result"
    }
   ],
   "source": [
    "len(log_db.scenario_tag)"
   ]
  },
  {
   "cell_type": "code",
   "execution_count": 45,
   "id": "4aaa8064",
   "metadata": {
    "scrolled": false
   },
   "outputs": [
    {
     "data": {
      "text/plain": [
       "{'high_magnitude_speed',\n",
       " 'low_magnitude_speed',\n",
       " 'medium_magnitude_speed',\n",
       " 'near_construction_zone_sign',\n",
       " 'near_high_speed_vehicle',\n",
       " 'near_pedestrian_on_crosswalk',\n",
       " 'on_intersection',\n",
       " 'on_stopline_traffic_light',\n",
       " 'on_traffic_light_intersection',\n",
       " 'starting_straight_stop_sign_intersection_traversal',\n",
       " 'starting_straight_traffic_light_intersection_traversal',\n",
       " 'stationary',\n",
       " 'stationary_in_traffic',\n",
       " 'traversing_crosswalk',\n",
       " 'traversing_intersection',\n",
       " 'traversing_traffic_light_intersection'}"
      ]
     },
     "execution_count": 45,
     "metadata": {},
     "output_type": "execute_result"
    }
   ],
   "source": [
    "raw_scenario = [log_db.scenario_tag[i].type for i in range(len(log_db.scenario_tag))]\n",
    "set(raw_scenario)"
   ]
  },
  {
   "cell_type": "code",
   "execution_count": 6,
   "id": "27d85cf4",
   "metadata": {
    "scrolled": true
   },
   "outputs": [
    {
     "data": {
      "text/plain": [
       "LidarBox(1280922 entries):\n",
       "--------------------------------------------------\n",
       "token                       : f8745354d77f5e37\n",
       "prev_token                  : None\n",
       "vy                          : -0.0020695771418821544\n",
       "x                           : 664682.04248548\n",
       "vz                          : -0.0018686033398442694\n",
       "y                           : 3999281.5750495587\n",
       "yaw                         : -0.2767499453159221\n",
       "lidar_pc_token              : e1e4ee25d1ff58f2\n",
       "z                           : 606.1606478954054\n",
       "confidence                  : 0.5808950916575207\n",
       "width                       : 0.40028481511936265\n",
       "track_token                 : 7af4e8cc4e86597a\n",
       "length                      : 0.397288774073045\n",
       "next_token                  : b30624229d7d5a9a\n",
       "height                      : 1.2509109225489499\n",
       "vx                          : 0.008847108592404675\n",
       "\n",
       "token                       : 70153170580b51e5\n",
       "prev_token                  : None\n",
       "vy                          : -1.0953151492005082\n",
       "x                           : 664689.4877757924\n",
       "vz                          : 0.0033869569396374217\n",
       "y                           : 3999264.3124307613\n",
       "yaw                         : -2.049647448545329\n",
       "lidar_pc_token              : e1e4ee25d1ff58f2\n",
       "z                           : 606.540731885689\n",
       "confidence                  : 0.609794241412944\n",
       "width                       : 0.659112418586842\n",
       "track_token                 : ccb4b116bc455953\n",
       "length                      : 0.6297216486538737\n",
       "next_token                  : cdcdabea534157c8\n",
       "height                      : 1.6830990355947488\n",
       "vx                          : -0.5208464138614147\n",
       "\n",
       "token                       : 328995a6eb045472\n",
       "prev_token                  : None\n",
       "vy                          : -1.1120701244036746\n",
       "x                           : 664685.7358048772\n",
       "vz                          : 0.0023647236930552204\n",
       "y                           : 3999259.610301163\n",
       "yaw                         : -2.0422785002887025\n",
       "lidar_pc_token              : e1e4ee25d1ff58f2\n",
       "z                           : 606.8039212057995\n",
       "confidence                  : 0.7522663997488301\n",
       "width                       : 0.6644236197244365\n",
       "track_token                 : b03192ace6425ed6\n",
       "length                      : 0.6475894446050867\n",
       "next_token                  : 20c1ca223f4e572a\n",
       "height                      : 1.7190775358664523\n",
       "vx                          : -0.5477829896275133\n",
       "\n",
       "(...) \n",
       "token                       : c8b08b25226459c4\n",
       "prev_token                  : a7852de243295ca3\n",
       "vy                          : -1.154147873145757\n",
       "x                           : 664447.5893060624\n",
       "vz                          : 0.002238710517069883\n",
       "y                           : 3996297.513187369\n",
       "yaw                         : -1.5227687219316524\n",
       "lidar_pc_token              : e6263597539759f1\n",
       "z                           : 623.4246535493103\n",
       "confidence                  : 0.41868610665877837\n",
       "width                       : 0.7094525098800659\n",
       "track_token                 : 9a26c550e300558f\n",
       "length                      : 0.7127510905265808\n",
       "next_token                  : None\n",
       "height                      : 1.7465059757232666\n",
       "vx                          : 0.05547361732076522\n"
      ]
     },
     "execution_count": 6,
     "metadata": {},
     "output_type": "execute_result"
    }
   ],
   "source": [
    "log_db.lidar_box"
   ]
  },
  {
   "cell_type": "markdown",
   "id": "554b9e5d",
   "metadata": {},
   "source": [
    "## filter"
   ]
  },
  {
   "cell_type": "markdown",
   "id": "342653cc",
   "metadata": {},
   "source": [
    "### import data type"
   ]
  },
  {
   "cell_type": "code",
   "execution_count": 7,
   "id": "2209c4c5",
   "metadata": {},
   "outputs": [],
   "source": [
    "from nuplan.database.nuplan_db_orm.lidar_pc import LidarPc\n",
    "from nuplan.database.nuplan_db_orm.category import Category\n",
    "from nuplan.database.nuplan_db_orm.ego_pose import EgoPose\n",
    "from nuplan.database.nuplan_db_orm.lidar_box import LidarBox\n",
    "from nuplan.database.nuplan_db_orm.log import Log\n",
    "from nuplan.database.nuplan_db_orm.scene import Scene\n",
    "from nuplan.database.nuplan_db_orm.scenario_tag import ScenarioTag\n",
    "from nuplan.database.nuplan_db_orm.traffic_light_status import TrafficLightStatus\n",
    "from nuplan.database.nuplan_db_orm.track import Track"
   ]
  },
  {
   "cell_type": "markdown",
   "id": "431351cb",
   "metadata": {},
   "source": [
    "### query and filter"
   ]
  },
  {
   "cell_type": "code",
   "execution_count": 95,
   "id": "8e69466e",
   "metadata": {
    "scrolled": true
   },
   "outputs": [
    {
     "data": {
      "text/plain": [
       "[token                       : e83c784f4c005d26\n",
       " lidar_pc_token              : 67fc50f5f2b354c8\n",
       " type                        : near_high_speed_vehicle\n",
       " agent_track_token           : 6c253dd25e285c02\n",
       " ,\n",
       " token                       : 0bc0a62f8770519a\n",
       " lidar_pc_token              : c99340a8526059ea\n",
       " type                        : near_high_speed_vehicle\n",
       " agent_track_token           : 6c253dd25e285c02\n",
       " ,\n",
       " token                       : 5fc0e344b3b95773\n",
       " lidar_pc_token              : 26a3b06a44f85761\n",
       " type                        : near_high_speed_vehicle\n",
       " agent_track_token           : 6c253dd25e285c02\n",
       " ,\n",
       " token                       : 41fd65c8d65158bd\n",
       " lidar_pc_token              : 83a8090c55045e8b\n",
       " type                        : near_high_speed_vehicle\n",
       " agent_track_token           : 6c253dd25e285c02\n",
       " ,\n",
       " token                       : 93c86322bd0f5272\n",
       " lidar_pc_token              : 04602bed0b8b5c1b\n",
       " type                        : near_high_speed_vehicle\n",
       " agent_track_token           : 6c253dd25e285c02\n",
       " ,\n",
       " token                       : 866f1184c80c5e17\n",
       " lidar_pc_token              : b627b48fb7a25dd8\n",
       " type                        : near_high_speed_vehicle\n",
       " agent_track_token           : 6c253dd25e285c02\n",
       " ,\n",
       " token                       : 58061fcea60a523a\n",
       " lidar_pc_token              : 55e093bd1d0d57b6\n",
       " type                        : near_high_speed_vehicle\n",
       " agent_track_token           : 7eb27ffb7ad45532\n",
       " ,\n",
       " token                       : a538e5c91a5f528d\n",
       " lidar_pc_token              : 29d689eb758658e1\n",
       " type                        : near_high_speed_vehicle\n",
       " agent_track_token           : 7eb27ffb7ad45532\n",
       " ,\n",
       " token                       : 2cb8ceee9cc5572c\n",
       " lidar_pc_token              : dad59f3ba54b57cd\n",
       " type                        : near_high_speed_vehicle\n",
       " agent_track_token           : 7eb27ffb7ad45532\n",
       " ,\n",
       " token                       : c6af2094914b57f8\n",
       " lidar_pc_token              : d95ca9e060455e30\n",
       " type                        : near_high_speed_vehicle\n",
       " agent_track_token           : 7eb27ffb7ad45532\n",
       " ]"
      ]
     },
     "execution_count": 95,
     "metadata": {},
     "output_type": "execute_result"
    }
   ],
   "source": [
    "scenario_tag_single = log_db.session.query(ScenarioTag) \\\n",
    "  .filter(ScenarioTag.agent_track_token != None) \\\n",
    "  .limit(10) \\\n",
    "  .all()\n",
    "\n",
    "scenario_tag_single"
   ]
  },
  {
   "cell_type": "code",
   "execution_count": 87,
   "id": "0acbedb6",
   "metadata": {},
   "outputs": [],
   "source": [
    "lidar_pc_token = scenario_tag_single[0].lidar_pc_token\n",
    "agent_track_token = scenario_tag_single[0].agent_track_token"
   ]
  },
  {
   "cell_type": "code",
   "execution_count": 88,
   "id": "bbd53bbe",
   "metadata": {},
   "outputs": [
    {
     "data": {
      "text/plain": [
       "[token                       : 69e109f6e2a85ab4\n",
       " next_token                  : e7ab5ebe02435256\n",
       " ego_pose_token              : ebfcf5673aa659c9\n",
       " scene_token                 : 964f7276202b566a\n",
       " timestamp                   : 1620857944600110\n",
       " prev_token                  : 9e5ae3e656b75b69\n",
       " lidar_token                 : b95e61f2a75f5273\n",
       " filename                    : 2021.05.12.22.00.38_veh-35_01008_01518/MergedPointCloud/69e109f6e2a85ab4.pcd\n",
       " ]"
      ]
     },
     "execution_count": 88,
     "metadata": {},
     "output_type": "execute_result"
    }
   ],
   "source": [
    "lidar_pc = log_db.session.query(LidarPc) \\\n",
    "  .filter(LidarPc.token == lidar_pc_token) \\\n",
    "  .all()\n",
    "          \n",
    "lidar_pc"
   ]
  },
  {
   "cell_type": "code",
   "execution_count": 89,
   "id": "ed996a73",
   "metadata": {},
   "outputs": [
    {
     "data": {
      "text/plain": [
       "[]"
      ]
     },
     "execution_count": 89,
     "metadata": {},
     "output_type": "execute_result"
    }
   ],
   "source": [
    "agent_track = log_db.session.query(Track) \\\n",
    "  .filter(Track.token == agent_track_token) \\\n",
    "  .all()\n",
    "          \n",
    "agent_track"
   ]
  }
 ],
 "metadata": {
  "kernelspec": {
   "display_name": "Python 3 (ipykernel)",
   "language": "python",
   "name": "python3"
  },
  "language_info": {
   "codemirror_mode": {
    "name": "ipython",
    "version": 3
   },
   "file_extension": ".py",
   "mimetype": "text/x-python",
   "name": "python",
   "nbconvert_exporter": "python",
   "pygments_lexer": "ipython3",
   "version": "3.9.16"
  }
 },
 "nbformat": 4,
 "nbformat_minor": 5
}
